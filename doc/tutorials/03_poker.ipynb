{
 "cells": [
  {
   "cell_type": "markdown",
   "id": "98eb65d8",
   "metadata": {},
   "source": [
    "# One-card poker game with private information\n",
    "\n",
    "In this tutorial, we'll create an extensive form representation of a one-card poker game ([Mye91](#mye91)) and use it to demonstrate and explain the following with Gambit:\n",
    "\n",
    "1. Setting up an extensive form game with imperfect information\n",
    "2. Using information sets\n",
    "3. [Retrieving player payoff tables from the game](#)\n",
    "4. [Computing Nash equilibria](#)\n",
    "5. [Acceptance criteria for Nash equilibria](#)\n",
    "\n",
    "A version of this game also appears in [RUW08](#ruw08), as a classroom game under the name \"stripped-down poker\".\n",
    "\n",
    "This is perhaps the simplest interesting game with imperfect information.\n",
    "\n",
    "In our version of the game, there are two players, **Alice** and **Bob**, and a deck of cards, with equal numbers of **King** and **Queen** cards.\n",
    "\n",
    "- The game begins with each player putting $1 in the pot.\n",
    "- A card is dealt at random to Alice\n",
    "    - Alice observes her card\n",
    "    - Bob does not observe the card\n",
    "- Alice then chooses either to **Raise** or to **Fold**.\n",
    "    - If she chooses to Fold, Bob wins the pot and the game ends.\n",
    "    - If she chooses to Raise, she adds another $1 to the pot.\n",
    "- Bob then chooses either to **Meet** or **Pass**.\n",
    "    - If he chooses to Pass, Alice wins the pot and the game ends.\n",
    "    - If he chooses to Meet, he adds another $1 to the pot.\n",
    "- There is then a showdown, in which Alice reveals her card.\n",
    "    - If she has a King, then she wins the pot;\n",
    "    - If she has a Queen, then Bob wins the pot."
   ]
  },
  {
   "cell_type": "code",
   "execution_count": 63,
   "id": "69cbfe81",
   "metadata": {},
   "outputs": [],
   "source": [
    "import pygambit as gbt"
   ]
  },
  {
   "cell_type": "markdown",
   "id": "70819881",
   "metadata": {},
   "source": [
    "Create the game with two players."
   ]
  },
  {
   "cell_type": "code",
   "execution_count": 64,
   "id": "ad6a1119",
   "metadata": {},
   "outputs": [],
   "source": [
    "g = gbt.Game.new_tree(\n",
    "    players=[\"Alice\", \"Bob\"], \n",
    "    title=\"One card poker\"\n",
    ")"
   ]
  },
  {
   "cell_type": "markdown",
   "id": "d9796238",
   "metadata": {},
   "source": [
    "In addition to the two named players, Gambit also instantiates a chance player."
   ]
  },
  {
   "cell_type": "code",
   "execution_count": 65,
   "id": "841f9f74",
   "metadata": {},
   "outputs": [
    {
     "name": "stdout",
     "output_type": "stream",
     "text": [
      "Player(game=Game(title='One card poker'), label='Alice')\n",
      "Player(game=Game(title='One card poker'), label='Bob')\n",
      "ChancePlayer(game=Game(title='One card poker'))\n"
     ]
    }
   ],
   "source": [
    "print(g.players[\"Alice\"])\n",
    "print(g.players[\"Bob\"])\n",
    "print(g.players.chance)"
   ]
  },
  {
   "cell_type": "markdown",
   "id": "0d4c7f5b",
   "metadata": {},
   "source": [
    "Moves belonging to the chance player can be added in the same way as to other players.\n",
    "\n",
    "At any new move created for the chance player, the action probabilities default to uniform randomization over the actions at the move.\n",
    "\n",
    "The first step in this game is that Alice is dealt a card which could be a King or Queen, each with probability 1/2.\n",
    "\n",
    "To simulate this in Gambit, we create a chance player move at the root node of the game."
   ]
  },
  {
   "cell_type": "code",
   "execution_count": 66,
   "id": "fe80c64c",
   "metadata": {},
   "outputs": [],
   "source": [
    "g.append_move(\n",
    "    g.root,\n",
    "    player=g.players.chance,\n",
    "    actions=[\"King\", \"Queen\"]  # By default, chance actions have equal probabilities\n",
    ")\n",
    "g.root.children[0].label = \"King\"  # TODO: Update API such that labels are set during move creation\n",
    "g.root.children[1].label = \"Queen\""
   ]
  },
  {
   "cell_type": "markdown",
   "id": "5cf73f0a",
   "metadata": {},
   "source": [
    "Now let's add Alice's first move after the card is dealt.\n",
    "\n",
    "In this game, information structure is important.\n",
    "Alice knows her card, so the two nodes at which she has the move are part of different information sets.\n",
    "\n",
    "We'll therefore need to append Alice's move separately for each of the root node's children, i.e. the scenarios where she has a King or a Queen."
   ]
  },
  {
   "cell_type": "code",
   "execution_count": 67,
   "id": "0e3bb5ef",
   "metadata": {},
   "outputs": [],
   "source": [
    "for node in g.root.children:\n",
    "    g.append_move(\n",
    "        node,\n",
    "        player=\"Alice\",\n",
    "        actions=[\"Raise\", \"Fold\"]\n",
    "    )\n",
    "    node.children[0].label = \"Raise\"  # TODO: Update API such that labels are set during move creation\n",
    "    node.children[1].label = \"Fold\""
   ]
  },
  {
   "cell_type": "markdown",
   "id": "4c8d0343",
   "metadata": {},
   "source": [
    "The loop above causes each of the newly-appended moves to be in new **information sets**, reflecting the fact that Alice's decision depends on the knowledge of which card she holds.\n",
    "\n",
    "In contrast, Bob does not know Alice’s card, and therefore cannot distinguish between the two nodes at which he has to make his decision:\n",
    "\n",
    "  - Chance player chooses King, then Alice Raises: `g.root.children[\"King\"].children[\"Raise\"]`\n",
    "  - Chance player chooses Queen, then Alice Raises: `g.root.children[\"Queen\"].children[\"Raise\"`\n",
    "\n",
    "In other words, Bob's decision when Alice has a Queen should be part of the same information set as Bob's decision when Alice has a King.\n",
    "\n",
    "To set this scenario up in Gambit, we'll need to use `Game.append_infoset` to add a move as part of an existing information set (represented in Gambit as an `Infoset`).\n",
    "\n",
    "First, let's add Bob's move to the node where Alice has raised with a King."
   ]
  },
  {
   "cell_type": "code",
   "execution_count": 68,
   "id": "dbfa7035",
   "metadata": {},
   "outputs": [],
   "source": [
    "g.append_move(\n",
    "    g.root.children[\"King\"].children[\"Raise\"],\n",
    "    player=\"Bob\",\n",
    "    actions=[\"Meet\", \"Pass\"]\n",
    ")\n",
    "g.root.children[\"King\"].children[\"Raise\"].children[0].label = \"Meet\"  # TODO: Update API such that labels are set during move creation\n",
    "g.root.children[\"King\"].children[\"Raise\"].children[1].label = \"Pass\""
   ]
  },
  {
   "cell_type": "markdown",
   "id": "689ce12c",
   "metadata": {},
   "source": [
    "Now let's add the information set we created at the node where Alice raised with a King, to the node where Alice raised with a Queen."
   ]
  },
  {
   "cell_type": "code",
   "execution_count": 69,
   "id": "655cdae3",
   "metadata": {},
   "outputs": [],
   "source": [
    "g.append_infoset(\n",
    "    g.root.children[\"Queen\"].children[\"Raise\"],\n",
    "    infoset=g.root.children[\"King\"].children[\"Raise\"].infoset\n",
    ")\n",
    "g.root.children[\"Queen\"].children[\"Raise\"].children[0].label = \"Meet\"  # TODO: Update API such that labels are set during move creation\n",
    "g.root.children[\"Queen\"].children[\"Raise\"].children[1].label = \"Pass\""
   ]
  },
  {
   "cell_type": "markdown",
   "id": "c4eeb65f",
   "metadata": {},
   "source": [
    "In game theory terms, this creates \"imperfect information\".\n",
    "Bob cannot distinguish between these two nodes in the game tree, so he must use the same strategy (same probabilities for Meet vs. Pass) in both situations.\n",
    "\n",
    "This is crucial in games where players must make decisions without complete knowledge of their opponents' private information.\n",
    "\n",
    "Let's now set up the four possible payoff outcomes for the game."
   ]
  },
  {
   "cell_type": "code",
   "execution_count": 70,
   "id": "87c988be",
   "metadata": {},
   "outputs": [],
   "source": [
    "alice_winsbig = g.add_outcome([2, -2], label=\"Alice wins big\")\n",
    "alice_wins = g.add_outcome([1, -1], label=\"Alice wins\")\n",
    "bob_winsbig = g.add_outcome([-2, 2], label=\"Bob wins big\")\n",
    "bob_wins = g.add_outcome([-1, 1], label=\"Bob wins\")"
   ]
  },
  {
   "cell_type": "markdown",
   "id": "467a2c39",
   "metadata": {},
   "source": [
    "Finally, we should assign an outcome to each of the terminal nodes in the game tree."
   ]
  },
  {
   "cell_type": "code",
   "execution_count": 71,
   "id": "29aa60a0",
   "metadata": {},
   "outputs": [],
   "source": [
    "# Alice folds, Bob wins small\n",
    "g.set_outcome(g.root.children[\"King\"].children[\"Fold\"], bob_wins)\n",
    "g.set_outcome(g.root.children[\"Queen\"].children[\"Fold\"], bob_wins)\n",
    "\n",
    "# Bob sees Alice raise and calls, correctly believing she is bluffing, Bob wins big\n",
    "g.set_outcome(g.root.children[\"Queen\"].children[\"Raise\"].children[\"Meet\"], bob_winsbig)\n",
    "\n",
    "# Bob sees Alice raise and calls, incorrectly believing she is bluffing, Alice wins big\n",
    "g.set_outcome(g.root.children[\"King\"].children[\"Raise\"].children[\"Meet\"], alice_winsbig)\n",
    "\n",
    "# Bob does not call Alice's raise, Alice wins small\n",
    "g.set_outcome(g.root.children[\"King\"].children[\"Raise\"].children[\"Pass\"], alice_wins)\n",
    "g.set_outcome(g.root.children[\"Queen\"].children[\"Raise\"].children[\"Pass\"], alice_wins)"
   ]
  },
  {
   "cell_type": "code",
   "execution_count": 72,
   "id": "17eb6af5",
   "metadata": {},
   "outputs": [],
   "source": [
    "# m, m_transposed = g.to_arrays()\n",
    "# print(m)\n",
    "# print(m_transposed)"
   ]
  }
 ],
 "metadata": {
  "kernelspec": {
   "display_name": "gambitvenv313",
   "language": "python",
   "name": "python3"
  },
  "language_info": {
   "codemirror_mode": {
    "name": "ipython",
    "version": 3
   },
   "file_extension": ".py",
   "mimetype": "text/x-python",
   "name": "python",
   "nbconvert_exporter": "python",
   "pygments_lexer": "ipython3",
   "version": "3.13.5"
  }
 },
 "nbformat": 4,
 "nbformat_minor": 5
}

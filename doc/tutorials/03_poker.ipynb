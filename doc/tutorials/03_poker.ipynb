{
 "cells": [
  {
   "cell_type": "markdown",
   "id": "98eb65d8",
   "metadata": {},
   "source": [
    "# One-card poker game with private information\n",
    "\n",
    "In this tutorial, we'll create an extensive form representation of a one-card poker game ([Mye91](#mye91)) and use it to demonstrate and explain the following with Gambit:\n",
    "\n",
    "1. Setting up an extensive form game with imperfect information\n",
    "2. Using information sets\n",
    "3. [Computing Nash equilibria](#)\n",
    "4. [Acceptance criteria for Nash equilibria](#)\n",
    "\n",
    "A version of this game also appears in [RUW08](#ruw08), as a classroom game under the name \"stripped-down poker\".\n",
    "\n",
    "This is perhaps the simplest interesting game with imperfect information.\n",
    "\n",
    "In our version of the game, there are two players, **Alice** and **Bob**, and a deck of cards, with equal numbers of **King** and **Queen** cards.\n",
    "\n",
    "- The game begins with each player putting $1 in the pot.\n",
    "- A card is dealt at random to Alice\n",
    "    - Alice observes her card\n",
    "    - Bob does not observe the card\n",
    "- Alice then chooses either to **Raise** or to **Fold**.\n",
    "    - If she chooses to Fold, Bob wins the pot and the game ends.\n",
    "    - If she chooses to Raise, she adds another $1 to the pot.\n",
    "- Bob then chooses either to **Meet** or **Pass**.\n",
    "    - If he chooses to Pass, Alice wins the pot and the game ends.\n",
    "    - If he chooses to Meet, he adds another $1 to the pot.\n",
    "- There is then a showdown, in which Alice reveals her card.\n",
    "    - If she has a King, then she wins the pot;\n",
    "    - If she has a Queen, then Bob wins the pot."
   ]
  },
  {
   "cell_type": "code",
   "execution_count": 80,
   "id": "69cbfe81",
   "metadata": {},
   "outputs": [],
   "source": [
    "import pygambit as gbt"
   ]
  },
  {
   "cell_type": "markdown",
   "id": "70819881",
   "metadata": {},
   "source": [
    "Create the game with two players."
   ]
  },
  {
   "cell_type": "code",
   "execution_count": 81,
   "id": "ad6a1119",
   "metadata": {},
   "outputs": [],
   "source": [
    "g = gbt.Game.new_tree(\n",
    "    players=[\"Alice\", \"Bob\"], \n",
    "    title=\"One card poker\"\n",
    ")"
   ]
  },
  {
   "cell_type": "markdown",
   "id": "d9796238",
   "metadata": {},
   "source": [
    "In addition to the two named players, Gambit also instantiates a chance player."
   ]
  },
  {
   "cell_type": "code",
   "execution_count": 82,
   "id": "841f9f74",
   "metadata": {},
   "outputs": [
    {
     "name": "stdout",
     "output_type": "stream",
     "text": [
      "Player(game=Game(title='One card poker'), label='Alice')\n",
      "Player(game=Game(title='One card poker'), label='Bob')\n",
      "ChancePlayer(game=Game(title='One card poker'))\n"
     ]
    }
   ],
   "source": [
    "print(g.players[\"Alice\"])\n",
    "print(g.players[\"Bob\"])\n",
    "print(g.players.chance)"
   ]
  },
  {
   "cell_type": "markdown",
   "id": "0d4c7f5b",
   "metadata": {},
   "source": [
    "Moves belonging to the chance player can be added in the same way as to other players.\n",
    "\n",
    "At any new move created for the chance player, the action probabilities default to uniform randomization over the actions at the move.\n",
    "\n",
    "The first step in this game is that Alice is dealt a card which could be a King or Queen, each with probability 1/2.\n",
    "\n",
    "To simulate this in Gambit, we create a chance player move at the root node of the game.\n",
    "\n",
    "Note: throughout this tutorial, we'll also apply labels to the various nodes in the game tree to improve code readability."
   ]
  },
  {
   "cell_type": "code",
   "execution_count": 83,
   "id": "fe80c64c",
   "metadata": {},
   "outputs": [],
   "source": [
    "g.append_move(\n",
    "    g.root,\n",
    "    player=g.players.chance,\n",
    "    actions=[\"King\", \"Queen\"]  # By default, chance actions have equal probabilities\n",
    ")\n",
    "g.root.children[0].label = \"King\"  # Add labels to the new child nodes to improve code readability\n",
    "g.root.children[1].label = \"Queen\""
   ]
  },
  {
   "cell_type": "markdown",
   "id": "5cf73f0a",
   "metadata": {},
   "source": [
    "Now let's add Alice's first move after the card is dealt.\n",
    "\n",
    "In this game, information structure is important.\n",
    "Alice knows her card, so the two nodes at which she has the move are part of different information sets.\n",
    "\n",
    "We'll therefore need to append Alice's move separately for each of the root node's children, i.e. the scenarios where she has a King or a Queen."
   ]
  },
  {
   "cell_type": "code",
   "execution_count": 84,
   "id": "0e3bb5ef",
   "metadata": {},
   "outputs": [],
   "source": [
    "for node in g.root.children:\n",
    "    g.append_move(\n",
    "        node,\n",
    "        player=\"Alice\",\n",
    "        actions=[\"Raise\", \"Fold\"]\n",
    "    )\n",
    "    node.children[0].label = \"Raise\"\n",
    "    node.children[1].label = \"Fold\""
   ]
  },
  {
   "cell_type": "markdown",
   "id": "4c8d0343",
   "metadata": {},
   "source": [
    "The loop above causes each of the newly-appended moves to be in new **information sets**, reflecting the fact that Alice's decision depends on the knowledge of which card she holds.\n",
    "\n",
    "In contrast, Bob does not know Alice’s card, and therefore cannot distinguish between the two nodes at which he has to make his decision:\n",
    "\n",
    "  - Chance player chooses King, then Alice Raises: `g.root.children[\"King\"].children[\"Raise\"]`\n",
    "  - Chance player chooses Queen, then Alice Raises: `g.root.children[\"Queen\"].children[\"Raise\"`\n",
    "\n",
    "In other words, Bob's decision when Alice has a Queen should be part of the same information set as Bob's decision when Alice has a King.\n",
    "\n",
    "To set this scenario up in Gambit, we'll need to use `Game.append_infoset` to add a move as part of an existing information set (represented in Gambit as an `Infoset`).\n",
    "\n",
    "First, let's add Bob's move to the node where Alice has raised with a King."
   ]
  },
  {
   "cell_type": "code",
   "execution_count": 85,
   "id": "dbfa7035",
   "metadata": {},
   "outputs": [],
   "source": [
    "g.append_move(\n",
    "    g.root.children[\"King\"].children[\"Raise\"],\n",
    "    player=\"Bob\",\n",
    "    actions=[\"Meet\", \"Pass\"]\n",
    ")\n",
    "g.root.children[\"King\"].children[\"Raise\"].children[0].label = \"Meet\"\n",
    "g.root.children[\"King\"].children[\"Raise\"].children[1].label = \"Pass\""
   ]
  },
  {
   "cell_type": "markdown",
   "id": "689ce12c",
   "metadata": {},
   "source": [
    "Now let's add the information set we created at the node where Alice raised with a King, to the node where Alice raised with a Queen."
   ]
  },
  {
   "cell_type": "code",
   "execution_count": 86,
   "id": "655cdae3",
   "metadata": {},
   "outputs": [],
   "source": [
    "g.append_infoset(\n",
    "    g.root.children[\"Queen\"].children[\"Raise\"],\n",
    "    infoset=g.root.children[\"King\"].children[\"Raise\"].infoset\n",
    ")\n",
    "g.root.children[\"Queen\"].children[\"Raise\"].children[0].label = \"Meet\"\n",
    "g.root.children[\"Queen\"].children[\"Raise\"].children[1].label = \"Pass\""
   ]
  },
  {
   "cell_type": "markdown",
   "id": "c4eeb65f",
   "metadata": {},
   "source": [
    "In game theory terms, this creates \"imperfect information\".\n",
    "Bob cannot distinguish between these two nodes in the game tree, so he must use the same strategy (same probabilities for Meet vs. Pass) in both situations.\n",
    "\n",
    "This is crucial in games where players must make decisions without complete knowledge of their opponents' private information.\n",
    "\n",
    "Let's now set up the four possible payoff outcomes for the game."
   ]
  },
  {
   "cell_type": "code",
   "execution_count": 87,
   "id": "87c988be",
   "metadata": {},
   "outputs": [],
   "source": [
    "alice_winsbig = g.add_outcome([2, -2], label=\"Alice wins big\")\n",
    "alice_wins = g.add_outcome([1, -1], label=\"Alice wins\")\n",
    "bob_winsbig = g.add_outcome([-2, 2], label=\"Bob wins big\")\n",
    "bob_wins = g.add_outcome([-1, 1], label=\"Bob wins\")"
   ]
  },
  {
   "cell_type": "markdown",
   "id": "467a2c39",
   "metadata": {},
   "source": [
    "Finally, we should assign an outcome to each of the terminal nodes in the game tree."
   ]
  },
  {
   "cell_type": "code",
   "execution_count": 88,
   "id": "29aa60a0",
   "metadata": {},
   "outputs": [],
   "source": [
    "# Alice folds, Bob wins small\n",
    "g.set_outcome(g.root.children[\"King\"].children[\"Fold\"], bob_wins)\n",
    "g.set_outcome(g.root.children[\"Queen\"].children[\"Fold\"], bob_wins)\n",
    "\n",
    "# Bob sees Alice raise and calls, correctly believing she is bluffing, Bob wins big\n",
    "g.set_outcome(g.root.children[\"Queen\"].children[\"Raise\"].children[\"Meet\"], bob_winsbig)\n",
    "\n",
    "# Bob sees Alice raise and calls, incorrectly believing she is bluffing, Alice wins big\n",
    "g.set_outcome(g.root.children[\"King\"].children[\"Raise\"].children[\"Meet\"], alice_winsbig)\n",
    "\n",
    "# Bob does not call Alice's raise, Alice wins small\n",
    "g.set_outcome(g.root.children[\"King\"].children[\"Raise\"].children[\"Pass\"], alice_wins)\n",
    "g.set_outcome(g.root.children[\"Queen\"].children[\"Raise\"].children[\"Pass\"], alice_wins)"
   ]
  },
  {
   "cell_type": "markdown",
   "id": "65def67e",
   "metadata": {},
   "source": [
    "<a id=\"mye91\"></a> Myerson, Roger B. (1991) *Game Theory: Analysis of Conflict*. Cambridge: Harvard University Press.\n",
    "\n",
    "<a id=\"ruw08\"></a> Reiley, David H., Michael B. Urbancic and Mark Walker. (2008) \"Stripped-down poker: A classroom game with signaling and bluffing.\" *The Journal of Economic Education* 39(4): 323-341."
   ]
  },
  {
   "cell_type": "markdown",
   "id": "17eb6af5",
   "metadata": {},
   "source": [
    "## Computing Nash equilibria\n",
    "\n",
    "Since our one-card poker game is extensive form and has two players, we can use the `lcp_solve` algorithm in Gambit to compute the Nash equilibria."
   ]
  },
  {
   "cell_type": "code",
   "execution_count": 89,
   "id": "4d92c8d9",
   "metadata": {},
   "outputs": [
    {
     "data": {
      "text/plain": [
       "NashComputationResult(method='lcp', rational=True, use_strategic=False, equilibria=[[[[Rational(1, 1), Rational(0, 1)], [Rational(1, 3), Rational(2, 3)]], [[Rational(2, 3), Rational(1, 3)]]]], parameters={'stop_after': 0, 'max_depth': 0})"
      ]
     },
     "execution_count": 89,
     "metadata": {},
     "output_type": "execute_result"
    }
   ],
   "source": [
    "result = gbt.nash.lcp_solve(g)\n",
    "result"
   ]
  },
  {
   "cell_type": "markdown",
   "id": "e5946077",
   "metadata": {},
   "source": [
    "The result of the calculation is returned as a `NashComputationResult` object.\n",
    "\n",
    "The set of equilibria found is reported in `NashComputationResult.equilibria`; in this case, this is a list of mixed behavior profiles.\n",
    "\n",
    "For one-card poker, we expect to find a single equilibrium (one mixed behavior profile):"
   ]
  },
  {
   "cell_type": "code",
   "execution_count": 90,
   "id": "9967d6f7",
   "metadata": {},
   "outputs": [
    {
     "name": "stdout",
     "output_type": "stream",
     "text": [
      "Number of equilibria found: 1\n"
     ]
    }
   ],
   "source": [
    "print(\"Number of equilibria found:\", len(result.equilibria))\n",
    "eqm = result.equilibria[0]"
   ]
  },
  {
   "cell_type": "code",
   "execution_count": 91,
   "id": "3293e818",
   "metadata": {},
   "outputs": [
    {
     "data": {
      "text/plain": [
       "pygambit.gambit.MixedBehaviorProfileRational"
      ]
     },
     "execution_count": 91,
     "metadata": {},
     "output_type": "execute_result"
    }
   ],
   "source": [
    "type(eqm)"
   ]
  },
  {
   "cell_type": "markdown",
   "id": "69f67b5b",
   "metadata": {},
   "source": [
    "A mixed behavior profile specifies, for each information set, the probability distribution over actions at that information set.\n",
    "\n",
    "Indexing a mixed behaviour profile by a player gives a `MixedBehavior`, which specifies probability distributions at each of the player's information sets:"
   ]
  },
  {
   "cell_type": "code",
   "execution_count": 116,
   "id": "4cf38264",
   "metadata": {},
   "outputs": [
    {
     "data": {
      "text/plain": [
       "pygambit.gambit.MixedBehavior"
      ]
     },
     "execution_count": 116,
     "metadata": {},
     "output_type": "execute_result"
    }
   ],
   "source": [
    "type(eqm[\"Alice\"])"
   ]
  },
  {
   "cell_type": "code",
   "execution_count": 92,
   "id": "85e7fdda",
   "metadata": {},
   "outputs": [
    {
     "data": {
      "text/latex": [
       "$\\left[\\left[1,0\\right],\\left[\\frac{1}{3},\\frac{2}{3}\\right]\\right]$"
      ],
      "text/plain": [
       "[[Rational(1, 1), Rational(0, 1)], [Rational(1, 3), Rational(2, 3)]]"
      ]
     },
     "execution_count": 92,
     "metadata": {},
     "output_type": "execute_result"
    }
   ],
   "source": [
    "eqm[\"Alice\"]"
   ]
  },
  {
   "cell_type": "markdown",
   "id": "6615115d",
   "metadata": {},
   "source": [
    "In this case, at Alice's first information set, the one at which she has the King, she always raises.\n",
    "\n",
    "At her second information set, where she has the Queen, she sometimes bluffs, raising with probability one-third.\n",
    "\n",
    "The probability distribution at an information set is represented by a `MixedAction`.\n",
    "\n",
    "`MixedBehavior.mixed_actions` iterates over these for the player:"
   ]
  },
  {
   "cell_type": "code",
   "execution_count": 128,
   "id": "f45a82b6",
   "metadata": {},
   "outputs": [
    {
     "name": "stdout",
     "output_type": "stream",
     "text": [
      "At information set 0, Alice plays Raise with probability: 1 and Fold with probability: 0\n",
      "At information set 1, Alice plays Raise with probability: 1/3 and Fold with probability: 2/3\n"
     ]
    }
   ],
   "source": [
    "for infoset, mixed_action in eqm[\"Alice\"].mixed_actions():\n",
    "    print(\n",
    "        f\"At information set {infoset.number}, \"\n",
    "        f\"Alice plays Raise with probability: {mixed_action['Raise']}\"\n",
    "        f\" and Fold with probability: {mixed_action['Fold']}\"\n",
    "    )"
   ]
  },
  {
   "cell_type": "markdown",
   "id": "9eeae046",
   "metadata": {},
   "source": [
    "In larger games, labels may not always be the most convenient way to refer to specific actions.\n",
    "We can also index profiles directly with `Action` objects.\n",
    "\n",
    "So an alternative way to extract the probabilities of playing “Raise” would be by iterating Alice’s list of actions:"
   ]
  },
  {
   "cell_type": "code",
   "execution_count": 95,
   "id": "83bbd3e5",
   "metadata": {},
   "outputs": [
    {
     "data": {
      "text/plain": [
       "{Infoset(player=Player(game=Game(title='One card poker'), label='Alice'), number=0): Rational(1, 1),\n",
       " Infoset(player=Player(game=Game(title='One card poker'), label='Alice'), number=1): Rational(1, 3)}"
      ]
     },
     "execution_count": 95,
     "metadata": {},
     "output_type": "execute_result"
    }
   ],
   "source": [
    "{action.infoset: eqm[action] for action in g.players[\"Alice\"].actions if action.label == \"Raise\"}"
   ]
  },
  {
   "cell_type": "markdown",
   "id": "1f121d48",
   "metadata": {},
   "source": [
    "Now let's look at Bob’s strategy:"
   ]
  },
  {
   "cell_type": "code",
   "execution_count": 96,
   "id": "6bf51b38",
   "metadata": {},
   "outputs": [
    {
     "data": {
      "text/latex": [
       "$\\left[\\left[\\frac{2}{3},\\frac{1}{3}\\right]\\right]$"
      ],
      "text/plain": [
       "[[Rational(2, 3), Rational(1, 3)]]"
      ]
     },
     "execution_count": 96,
     "metadata": {},
     "output_type": "execute_result"
    }
   ],
   "source": [
    "eqm[\"Bob\"]"
   ]
  },
  {
   "cell_type": "markdown",
   "id": "e906c4c4",
   "metadata": {},
   "source": [
    "Bob meets Alice’s raise two-thirds of the time.\n",
    "The label “Raise” is used in more than one information set for Alice, so in the above we had to specify information sets when indexing.\n",
    "\n",
    "When there is no ambiguity, we can specify action labels directly.\n",
    "So for example, because Bob has only one action named “Meet” in the game, we can extract the probability that Bob plays “Meet” by:"
   ]
  },
  {
   "cell_type": "code",
   "execution_count": 97,
   "id": "2966e700",
   "metadata": {},
   "outputs": [
    {
     "data": {
      "text/latex": [
       "$\\frac{2}{3}$"
      ],
      "text/plain": [
       "Rational(2, 3)"
      ]
     },
     "execution_count": 97,
     "metadata": {},
     "output_type": "execute_result"
    }
   ],
   "source": [
    "eqm[\"Bob\"][\"Meet\"]"
   ]
  },
  {
   "cell_type": "markdown",
   "id": "2ec69f8c",
   "metadata": {},
   "source": [
    "Moreover, this is the only action with that label in the game, so we can index the profile directly using the action label without any ambiguity:"
   ]
  },
  {
   "cell_type": "code",
   "execution_count": 98,
   "id": "f5a7f110",
   "metadata": {},
   "outputs": [
    {
     "data": {
      "text/latex": [
       "$\\frac{2}{3}$"
      ],
      "text/plain": [
       "Rational(2, 3)"
      ]
     },
     "execution_count": 98,
     "metadata": {},
     "output_type": "execute_result"
    }
   ],
   "source": [
    "eqm[\"Meet\"]"
   ]
  },
  {
   "cell_type": "markdown",
   "id": "db19411b",
   "metadata": {},
   "source": [
    "Because this is an equilibrium, the fact that Bob randomizes at his information set must mean he is indifferent between the two actions at his information set.\n",
    " \n",
    "`MixedBehaviorProfile.action_value` returns the expected payoff of taking an action, conditional on reaching that action's information set:"
   ]
  },
  {
   "cell_type": "code",
   "execution_count": 99,
   "id": "a7d3816d",
   "metadata": {},
   "outputs": [
    {
     "data": {
      "text/plain": [
       "{'Meet': Rational(-1, 1), 'Pass': Rational(-1, 1)}"
      ]
     },
     "execution_count": 99,
     "metadata": {},
     "output_type": "execute_result"
    }
   ],
   "source": [
    "{action.label: eqm.action_value(action) for action in g.players[\"Bob\"].infosets[0].actions}"
   ]
  },
  {
   "cell_type": "markdown",
   "id": "6491fdda",
   "metadata": {},
   "source": [
    "Bob's indifference between his actions arises because of his beliefs given Alice's strategy.\n",
    "`MixedBehaviorProfile.belief` returns the probability of reaching a node, conditional on its information set being reached:"
   ]
  },
  {
   "cell_type": "code",
   "execution_count": 100,
   "id": "4a54b20c",
   "metadata": {},
   "outputs": [
    {
     "data": {
      "text/plain": [
       "{Node(game=Game(title='One card poker'), label='Raise'): Rational(3, 4),\n",
       " Node(game=Game(title='One card poker'), label='Raise'): Rational(1, 4)}"
      ]
     },
     "execution_count": 100,
     "metadata": {},
     "output_type": "execute_result"
    }
   ],
   "source": [
    "{node: eqm.belief(node) for node in g.players[\"Bob\"].infosets[0].members}"
   ]
  },
  {
   "cell_type": "markdown",
   "id": "351bb3ce",
   "metadata": {},
   "source": [
    "Bob believes that, conditional on Alice raising, there's a 3/4 chance that she has the King;\n",
    "therefore, the expected payoff to meeting is in fact -1 as computed.\n",
    "`MixedBehaviorProfile.infoset_prob` returns the probability that an information set is reached:"
   ]
  },
  {
   "cell_type": "code",
   "execution_count": 101,
   "id": "b250c1cd",
   "metadata": {},
   "outputs": [
    {
     "data": {
      "text/latex": [
       "$\\frac{2}{3}$"
      ],
      "text/plain": [
       "Rational(2, 3)"
      ]
     },
     "execution_count": 101,
     "metadata": {},
     "output_type": "execute_result"
    }
   ],
   "source": [
    "eqm.infoset_prob(g.players[\"Bob\"].infosets[0])"
   ]
  },
  {
   "cell_type": "markdown",
   "id": "9216ea34",
   "metadata": {},
   "source": [
    "The corresponding probability that a node is reached in the play of the game is given by `MixedBehaviorProfile.realiz_prob`, and the expected payoff to a player conditional on reaching a node is given by `MixedBehaviorProfile.node_value`."
   ]
  },
  {
   "cell_type": "code",
   "execution_count": 102,
   "id": "6f01846b",
   "metadata": {},
   "outputs": [
    {
     "data": {
      "text/plain": [
       "{Node(game=Game(title='One card poker'), label='Raise'): Rational(-5, 3),\n",
       " Node(game=Game(title='One card poker'), label='Raise'): Rational(1, 1)}"
      ]
     },
     "execution_count": 102,
     "metadata": {},
     "output_type": "execute_result"
    }
   ],
   "source": [
    "{node: eqm.node_value(\"Bob\", node) for node in g.players[\"Bob\"].infosets[0].members}"
   ]
  },
  {
   "cell_type": "markdown",
   "id": "5ba0c241",
   "metadata": {},
   "source": [
    "The overall expected payoff to a player given the behavior profile is returned by `MixedBehaviorProfile.payoff`:"
   ]
  },
  {
   "cell_type": "code",
   "execution_count": 103,
   "id": "5079d231",
   "metadata": {},
   "outputs": [
    {
     "data": {
      "text/latex": [
       "$\\frac{1}{3}$"
      ],
      "text/plain": [
       "Rational(1, 3)"
      ]
     },
     "execution_count": 103,
     "metadata": {},
     "output_type": "execute_result"
    }
   ],
   "source": [
    "eqm.payoff(\"Alice\")"
   ]
  },
  {
   "cell_type": "code",
   "execution_count": 104,
   "id": "c55f2c7a",
   "metadata": {},
   "outputs": [
    {
     "data": {
      "text/latex": [
       "$\\frac{-1}{3}$"
      ],
      "text/plain": [
       "Rational(-1, 3)"
      ]
     },
     "execution_count": 104,
     "metadata": {},
     "output_type": "execute_result"
    }
   ],
   "source": [
    "eqm.payoff(\"Bob\")"
   ]
  },
  {
   "cell_type": "markdown",
   "id": "26d5e8ff",
   "metadata": {},
   "source": [
    "The equilibrium computed expresses probabilities in rational numbers.\n",
    "\n",
    "Because the numerical data of games in Gambit [are represented exactly](https://gambitproject.readthedocs.io/en/stable/pygambit.user.html#representation-of-numerical-data-of-a-game), methods which are specialized to two-player games, `lp_solve`, `lcp_solve`, and `enummixed_solve`, can report exact probabilities for equilibrium strategy profiles.\n",
    "\n",
    "This is enabled by default for these methods.\n",
    "\n",
    "When a game has an extensive representation, equilibrium finding methods default to computing on that representation.\n",
    "It is also possible to compute using the strategic representation.\n",
    "`pygambit` transparently computes the reduced strategic form representation of an extensive game."
   ]
  },
  {
   "cell_type": "code",
   "execution_count": 105,
   "id": "d4ecff88",
   "metadata": {},
   "outputs": [
    {
     "data": {
      "text/plain": [
       "['11', '12', '21', '22']"
      ]
     },
     "execution_count": 105,
     "metadata": {},
     "output_type": "execute_result"
    }
   ],
   "source": [
    "[s.label for s in g.players[\"Alice\"].strategies]"
   ]
  },
  {
   "cell_type": "markdown",
   "id": "a9bf9b73",
   "metadata": {},
   "source": [
    "In the strategic form of this game, Alice has four strategies.\n",
    "\n",
    "The generated strategy labels list the action numbers taken at each information set.\n",
    "\n",
    "We can therefore apply a method which operates on a strategic game to any game with an extensive representation."
   ]
  },
  {
   "cell_type": "code",
   "execution_count": 106,
   "id": "24e4b6e8",
   "metadata": {},
   "outputs": [
    {
     "data": {
      "text/plain": [
       "NashComputationResult(method='gnm', rational=False, use_strategic=True, equilibria=[[[0.33333333333866677, 0.6666666666613335, 0.0, 0.0], [0.6666666666559997, 0.3333333333440004]]], parameters={'perturbation': [[1.0, 0.0, 0.0, 0.0], [1.0, 0.0]], 'end_lambda': -10.0, 'steps': 100, 'local_newton_interval': 3, 'local_newton_maxits': 10})"
      ]
     },
     "execution_count": 106,
     "metadata": {},
     "output_type": "execute_result"
    }
   ],
   "source": [
    "result = gbt.nash.gnm_solve(g)\n",
    "result"
   ]
  },
  {
   "cell_type": "markdown",
   "id": "d88b736b",
   "metadata": {},
   "source": [
    "`gnm_solve` can be applied to any game with any number of players, and uses a path-following process in floating-point arithmetic, so it returns profiles with probabilities expressed as floating-point numbers.\n",
    "\n",
    "This method operates on the strategic representation of the game, so the returned results are of type `MixedStrategyProfile`, and specify, for each player, a probability distribution over that player's strategies.\n",
    "\n",
    "Indexing a `MixedStrategyProfile` by a player gives the probability distribution over that player's strategies only."
   ]
  },
  {
   "cell_type": "code",
   "execution_count": 107,
   "id": "d9ffb4b8",
   "metadata": {},
   "outputs": [],
   "source": [
    "eqm1 = result.equilibria[0]"
   ]
  },
  {
   "cell_type": "code",
   "execution_count": 108,
   "id": "aa168d5e",
   "metadata": {},
   "outputs": [
    {
     "data": {
      "text/latex": [
       "[0.33333333333866677, 0.6666666666613335, 0.0, 0.0]"
      ],
      "text/plain": [
       "[0.33333333333866677, 0.6666666666613335, 0.0, 0.0]"
      ]
     },
     "execution_count": 108,
     "metadata": {},
     "output_type": "execute_result"
    }
   ],
   "source": [
    "eqm1[\"Alice\"]"
   ]
  },
  {
   "cell_type": "code",
   "execution_count": 109,
   "id": "d6f614ab",
   "metadata": {},
   "outputs": [
    {
     "data": {
      "text/latex": [
       "[0.6666666666559997, 0.3333333333440004]"
      ],
      "text/plain": [
       "[0.6666666666559997, 0.3333333333440004]"
      ]
     },
     "execution_count": 109,
     "metadata": {},
     "output_type": "execute_result"
    }
   ],
   "source": [
    "eqm1[\"Bob\"]"
   ]
  },
  {
   "cell_type": "markdown",
   "id": "102d22c2",
   "metadata": {},
   "source": [
    "The expected payoff to a strategy is provided by `MixedStrategyProfile.strategy_value`:"
   ]
  },
  {
   "cell_type": "code",
   "execution_count": 110,
   "id": "56e2f847",
   "metadata": {},
   "outputs": [
    {
     "data": {
      "text/plain": [
       "{Strategy(player=Player(game=Game(title='One card poker'), label='Alice'), label='11'): 0.33333333334400045,\n",
       " Strategy(player=Player(game=Game(title='One card poker'), label='Alice'), label='12'): 0.33333333332799997,\n",
       " Strategy(player=Player(game=Game(title='One card poker'), label='Alice'), label='21'): -0.9999999999839995,\n",
       " Strategy(player=Player(game=Game(title='One card poker'), label='Alice'), label='22'): -1.0}"
      ]
     },
     "execution_count": 110,
     "metadata": {},
     "output_type": "execute_result"
    }
   ],
   "source": [
    "{strategy: eqm1.strategy_value(strategy) for strategy in g.players[\"Alice\"].strategies}"
   ]
  },
  {
   "cell_type": "code",
   "execution_count": 111,
   "id": "ee25518d",
   "metadata": {},
   "outputs": [
    {
     "data": {
      "text/plain": [
       "{Strategy(player=Player(game=Game(title='One card poker'), label='Bob'), label='1'): -0.33333333333066656,\n",
       " Strategy(player=Player(game=Game(title='One card poker'), label='Bob'), label='2'): -0.3333333333386667}"
      ]
     },
     "execution_count": 111,
     "metadata": {},
     "output_type": "execute_result"
    }
   ],
   "source": [
    "{strategy: eqm1.strategy_value(strategy) for strategy in g.players[\"Bob\"].strategies}"
   ]
  },
  {
   "cell_type": "markdown",
   "id": "e8a637a5",
   "metadata": {},
   "source": [
    "The overall expected payoff to a player is returned by `MixedStrategyProfile.payoff`:"
   ]
  },
  {
   "cell_type": "code",
   "execution_count": 112,
   "id": "ae32b790",
   "metadata": {},
   "outputs": [
    {
     "data": {
      "text/plain": [
       "0.33333333333333354"
      ]
     },
     "execution_count": 112,
     "metadata": {},
     "output_type": "execute_result"
    }
   ],
   "source": [
    "eqm1.payoff(\"Alice\")"
   ]
  },
  {
   "cell_type": "code",
   "execution_count": 113,
   "id": "10f5a92d",
   "metadata": {},
   "outputs": [
    {
     "data": {
      "text/plain": [
       "-0.33333333333333354"
      ]
     },
     "execution_count": 113,
     "metadata": {},
     "output_type": "execute_result"
    }
   ],
   "source": [
    "eqm1.payoff(\"Bob\")"
   ]
  },
  {
   "cell_type": "markdown",
   "id": "874be231",
   "metadata": {},
   "source": [
    "When a game has an extensive representation, we can convert freely between `MixedStrategyProfile` and the corresponding `MixedBehaviorProfile` representation of the same strategies using `MixedStrategyProfile.as_behavior` and `MixedBehaviorProfile.as_strategy`."
   ]
  },
  {
   "cell_type": "code",
   "execution_count": 114,
   "id": "d18a91f0",
   "metadata": {},
   "outputs": [
    {
     "data": {
      "text/latex": [
       "$\\left[[[1.0, 0.0], [0.3333333333386667, 0.6666666666613333]],[[0.6666666666559997, 0.3333333333440004]]\\right]$"
      ],
      "text/plain": [
       "[[[1.0, 0.0], [0.3333333333386667, 0.6666666666613333]], [[0.6666666666559997, 0.3333333333440004]]]"
      ]
     },
     "execution_count": 114,
     "metadata": {},
     "output_type": "execute_result"
    }
   ],
   "source": [
    "eqm1.as_behavior()"
   ]
  },
  {
   "cell_type": "code",
   "execution_count": 115,
   "id": "fd474c66",
   "metadata": {},
   "outputs": [
    {
     "data": {
      "text/latex": [
       "$\\left[[0.3333333333386667, 0.6666666666613333, 0.0, 0.0],[0.6666666666559997, 0.3333333333440004]\\right]$"
      ],
      "text/plain": [
       "[[0.3333333333386667, 0.6666666666613333, 0.0, 0.0], [0.6666666666559997, 0.3333333333440004]]"
      ]
     },
     "execution_count": 115,
     "metadata": {},
     "output_type": "execute_result"
    }
   ],
   "source": [
    "eqm1.as_behavior().as_strategy()"
   ]
  }
 ],
 "metadata": {
  "kernelspec": {
   "display_name": "gambitvenv313",
   "language": "python",
   "name": "python3"
  },
  "language_info": {
   "codemirror_mode": {
    "name": "ipython",
    "version": 3
   },
   "file_extension": ".py",
   "mimetype": "text/x-python",
   "name": "python",
   "nbconvert_exporter": "python",
   "pygments_lexer": "ipython3",
   "version": "3.13.5"
  }
 },
 "nbformat": 4,
 "nbformat_minor": 5
}

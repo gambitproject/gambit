{
 "cells": [
  {
   "cell_type": "markdown",
   "id": "88c376d0",
   "metadata": {},
   "source": [
    "# Getting started with Gambit\n",
    "\n",
    "In this tutorial, we'll demo the basic features of the Gambit library for game theory.\n",
    "\n",
    "This includes creating a `Game` object and using it to set up both normal and extensive form games, starting with the Prisoner's Dilemma, one of the most famous games in game theory.\n",
    "\n",
    "We'll then use Gambit's built-in functions to analyze the game and find its Nash equilibria.\n",
    "\n",
    "<details><summary>The Prisoner's Dilemma</summary>\n",
    "\n",
    "The Prisoner's Dilemma is a classic example in game theory that illustrates why two rational individuals who cannot communicate might not cooperate, even if it appears that it is in their best interest to do so. After being caught, the two prisoners are separately offered a deal:\n",
    "\n",
    "If both stay silent (cooperate), they get light sentences.\n",
    "\n",
    "If one betrays (defects) while the other stays silent, the betrayer goes free and the silent one gets a heavy sentence.\n",
    "\n",
    "If both betray, they both get moderate sentences.\n",
    "\n",
    "</details>"
   ]
  },
  {
   "cell_type": "code",
   "execution_count": 2,
   "id": "894df759",
   "metadata": {},
   "outputs": [],
   "source": [
    "import pygambit as gbt"
   ]
  },
  {
   "cell_type": "markdown",
   "id": "b563d13d",
   "metadata": {},
   "source": [
    "First, let's create the game object.\n",
    "\n",
    "To do this, we need to know the number of players, which in Prisoner's Dilemma is 2, and the number of strategies for each player, which is in both cases is 2 (Cooperate and Defect)."
   ]
  },
  {
   "cell_type": "code",
   "execution_count": 3,
   "id": "2060c1ed",
   "metadata": {},
   "outputs": [
    {
     "data": {
      "text/plain": [
       "pygambit.gambit.Game"
      ]
     },
     "execution_count": 3,
     "metadata": {},
     "output_type": "execute_result"
    }
   ],
   "source": [
    "# Create a list as long as the number of players, specifying the number of strategies for each player.\n",
    "n_strategies = [2, 2]\n",
    "g = gbt.Game.new_table(n_strategies, title=\"Prisoner's Dilemma\")\n",
    "type(g)"
   ]
  },
  {
   "cell_type": "markdown",
   "id": "903376dc",
   "metadata": {},
   "source": [
    "Now let's name the players and each of their possible strategies, in both cases \"Cooperate\" and \"Defect\"."
   ]
  },
  {
   "cell_type": "code",
   "execution_count": 4,
   "id": "9d8203e8",
   "metadata": {},
   "outputs": [],
   "source": [
    "g.players[0].label = \"Tom\"\n",
    "g.players[0].strategies[0].label = \"Cooperate\"\n",
    "g.players[0].strategies[1].label = \"Defect\"\n",
    "\n",
    "g.players[1].label = \"Jerry\"\n",
    "g.players[1].strategies[0].label = \"Cooperate\"\n",
    "g.players[1].strategies[1].label = \"Defect\""
   ]
  },
  {
   "cell_type": "markdown",
   "id": "60bfe828",
   "metadata": {},
   "source": [
    "Now let's assign payoffs for each of the game's possible outcomes, based on the standard payoffs for the Prisoner's Dilemma:\n",
    "- Both players cooperate and receive the lightest sentence: `(-1, -1)`\n",
    "- Tom cooperates, but Jerry defects (betrays Tom): `(0, -3)`\n",
    "- Tom defects, Jerry cooperates: `(-3, 0)`\n",
    "- Both defect: `(-2, -2)`"
   ]
  },
  {
   "cell_type": "code",
   "execution_count": 5,
   "id": "61030607",
   "metadata": {},
   "outputs": [],
   "source": [
    "# Both cooperate\n",
    "g[\"Cooperate\", \"Cooperate\"][\"Tom\"] = -1\n",
    "g[\"Cooperate\", \"Cooperate\"][\"Jerry\"] = -1\n",
    "\n",
    "# Tom cooperates, Jerry defects\n",
    "g[\"Cooperate\", \"Defect\"][\"Tom\"] = -3\n",
    "g[\"Cooperate\", \"Defect\"][\"Jerry\"] = 0\n",
    "\n",
    "# Tom defects, Jerry cooperates\n",
    "g[\"Defect\", \"Cooperate\"][\"Tom\"] = 0\n",
    "g[\"Defect\", \"Cooperate\"][\"Jerry\"] = -3\n",
    "\n",
    "# Both defect\n",
    "g[\"Defect\", \"Defect\"][\"Tom\"] = -2\n",
    "g[\"Defect\", \"Defect\"][\"Jerry\"] = -2"
   ]
  },
  {
   "cell_type": "code",
   "execution_count": 6,
   "id": "caecc334",
   "metadata": {},
   "outputs": [
    {
     "data": {
      "text/html": [
       "<center><h1>Prisoner's Dilemma</h1></center>\n",
       "<table><tr><td></td><td align=center><b>Cooperate</b></td><td align=center><b>Defect</b></td></tr><tr><td align=center><b>Cooperate</b></td><td align=center>-1,-1</td><td align=center>-3,0</td></tr><tr><td align=center><b>Defect</b></td><td align=center>0,-3</td><td align=center>-2,-2</td></tr></table>\n"
      ],
      "text/plain": [
       "Game(title='Prisoner's Dilemma')"
      ]
     },
     "execution_count": 6,
     "metadata": {},
     "output_type": "execute_result"
    }
   ],
   "source": [
    "# View the payout matrix\n",
    "g"
   ]
  },
  {
   "cell_type": "markdown",
   "id": "659fc2c5",
   "metadata": {},
   "source": [
    "The payout matrix structure shows what in Game Theory is described as the \"strategic form\" (also \"normal form\") representation of a game.\n",
    "\n",
    "The matrix presents the players' strategies and their expected payoff following their played strategies.\n",
    "\n",
    "The strategic form assumes players choose their strategies simultaneously, and the outcome depends on the combination."
   ]
  },
  {
   "cell_type": "markdown",
   "id": "5e9fe410",
   "metadata": {},
   "source": [
    "## With fewer lines of code...\n",
    "\n",
    "The most direct way to create a strategic form game is via `Game.from_arrays()`.\n",
    "\n",
    "This function takes one n-dimensional array per player, where n is the number of players in the game.\n",
    "\n",
    "The arrays can be any object that can be indexed like an n-times-nested Python list; so, for example, numpy arrays can be used directly.\n",
    "\n",
    "To create a two-player symmetric game, we can simply transpose the payoff matrix for the second player before passing to `Game.from_arrays()`."
   ]
  },
  {
   "cell_type": "code",
   "execution_count": 8,
   "id": "843ba7f3",
   "metadata": {},
   "outputs": [
    {
     "data": {
      "text/html": [
       "<center><h1>Another Prisoner's Dilemma</h1></center>\n",
       "<table><tr><td></td><td align=center><b>1</b></td><td align=center><b>2</b></td></tr><tr><td align=center><b>1</b></td><td align=center>-1,-1</td><td align=center>-3,0</td></tr><tr><td align=center><b>2</b></td><td align=center>0,-3</td><td align=center>-2,-2</td></tr></table>\n"
      ],
      "text/plain": [
       "Game(title='Another Prisoner's Dilemma')"
      ]
     },
     "execution_count": 8,
     "metadata": {},
     "output_type": "execute_result"
    }
   ],
   "source": [
    "import numpy as np\n",
    "player1_payoffs = np.array([[-1, -3], [0, -2]])\n",
    "player2_payoffs = np.transpose(player1_payoffs)\n",
    "\n",
    "g1 = gbt.Game.from_arrays(\n",
    "    player1_payoffs,\n",
    "    player2_payoffs,\n",
    "    title=\"Another Prisoner's Dilemma\"\n",
    ")\n",
    "\n",
    "g1"
   ]
  },
  {
   "cell_type": "markdown",
   "id": "696d83cb",
   "metadata": {},
   "source": [
    "You can retrieve the players’ payoff tables from a game object using the `Game.to_arrays()` method, which produces a list of numpy arrays representing the payoffs for each player.\n",
    "\n",
    "The optional parameter `dtype` controls the data type of the payoffs in the generated arrays."
   ]
  },
  {
   "cell_type": "code",
   "execution_count": 23,
   "id": "5ee752c4",
   "metadata": {},
   "outputs": [
    {
     "name": "stdout",
     "output_type": "stream",
     "text": [
      "-1\n",
      "<class 'pygambit.gambit.Rational'>\n"
     ]
    }
   ],
   "source": [
    "tom_payoffs, jerry_payoffs = g.to_arrays(\n",
    "    # dtype=float\n",
    ")\n",
    "print(tom_payoffs[0][0])\n",
    "print(type(tom_payoffs[0][0]))"
   ]
  },
  {
   "cell_type": "markdown",
   "id": "f2e6645e",
   "metadata": {},
   "source": [
    "Computing the Nash equilibria\n",
    "-----------------------------\n",
    "\n",
    "Let's now use Gambit to compute the Nash equilibria for our Prisoner's Dilemma game, which tells us the strategies that players can adopt to maximize their payoffs, given the assumptions of the Prisoner's Dilemma.\n",
    "\n",
    "For a two-player normal form game, let's use `enumpure_solve` to search for a pure-strategy Nash equilibria."
   ]
  },
  {
   "cell_type": "code",
   "execution_count": 9,
   "id": "a81c06c7",
   "metadata": {},
   "outputs": [],
   "source": [
    "# Returns a NashComputationResult\n",
    "result = gbt.nash.enumpure_solve(g)"
   ]
  },
  {
   "cell_type": "markdown",
   "id": "7d8076f8",
   "metadata": {},
   "source": [
    "Let's inspect our result further to see how many equilibria were found.\n",
    "\n",
    "For a given equilibria, we can then look at the \"mixed strategy profile\", which maps each strategy in a game to the corresponding probability with which that strategy is played.\n",
    "\n",
    "Finally, we can show the expected payoffs for each player when playing the strategies as specified by an equilibrium profile."
   ]
  },
  {
   "cell_type": "code",
   "execution_count": 10,
   "id": "bd395180",
   "metadata": {},
   "outputs": [
    {
     "data": {
      "text/plain": [
       "1"
      ]
     },
     "execution_count": 10,
     "metadata": {},
     "output_type": "execute_result"
    }
   ],
   "source": [
    "# How many equilibria were found?\n",
    "len(result.equilibria)"
   ]
  },
  {
   "cell_type": "code",
   "execution_count": 11,
   "id": "76570ebc",
   "metadata": {},
   "outputs": [
    {
     "data": {
      "text/latex": [
       "$\\left[\\left[0,1\\right],\\left[0,1\\right]\\right]$"
      ],
      "text/plain": [
       "[[Rational(0, 1), Rational(1, 1)], [Rational(0, 1), Rational(1, 1)]]"
      ]
     },
     "execution_count": 11,
     "metadata": {},
     "output_type": "execute_result"
    }
   ],
   "source": [
    "# Inspect the mixed strategy profile of the found equilibrium\n",
    "msp = result.equilibria[0]\n",
    "msp"
   ]
  },
  {
   "cell_type": "markdown",
   "id": "f937e1ab",
   "metadata": {},
   "source": [
    "The equilibrium profile `[[0,1],[0,1]]` indicates that both players' strategy is to play \"Cooperate\" with probability 0 and \"Defect\" with probability 1:"
   ]
  },
  {
   "cell_type": "code",
   "execution_count": 12,
   "id": "980bf6b1",
   "metadata": {},
   "outputs": [
    {
     "name": "stdout",
     "output_type": "stream",
     "text": [
      "Tom plays the equilibrium strategy:\n",
      "Probability of cooperating: 0\n",
      "Probability of defecting: 1\n",
      "Payoff: -2\n",
      "\n",
      "Jerry plays the equilibrium strategy:\n",
      "Probability of cooperating: 0\n",
      "Probability of defecting: 1\n",
      "Payoff: -2\n",
      "\n"
     ]
    }
   ],
   "source": [
    "for player in g.players:\n",
    "    print(f\"{player.label} plays the equilibrium strategy:\")\n",
    "    print(f\"Probability of cooperating: {msp[player.label]['Cooperate']}\")\n",
    "    print(f\"Probability of defecting: {msp[player.label]['Defect']}\")\n",
    "    print(f\"Payoff: {msp.payoff(player.label)}\")\n",
    "    print()"
   ]
  },
  {
   "cell_type": "markdown",
   "id": "24f36b0d",
   "metadata": {},
   "source": [
    "The equilibrium shows that both players are playing their dominant strategy, which is to defect. This is because defecting is the best response to the other player's strategy, regardless of what that strategy is.\n",
    "\n",
    "Saving games to file\n",
    "--------------------\n",
    "\n",
    "You can use Gambit to save games to, and read from files.\n",
    "The specific format depends on whether the game is normal or extensive form.\n",
    "\n",
    "Here we'll save the Prisoner's Dilemma (normal form) to the `.nfg` format."
   ]
  },
  {
   "cell_type": "code",
   "execution_count": 13,
   "id": "f58eaa77",
   "metadata": {},
   "outputs": [],
   "source": [
    "g.to_nfg(\"games/prisoners_dilemma.nfg\")"
   ]
  },
  {
   "cell_type": "markdown",
   "id": "e373be1e",
   "metadata": {},
   "source": [
    "Reading games from file\n",
    "-----------------------\n",
    "\n",
    "You can easily restore the game object from file like so:"
   ]
  },
  {
   "cell_type": "code",
   "execution_count": 14,
   "id": "4119a2ac",
   "metadata": {},
   "outputs": [
    {
     "data": {
      "text/plain": [
       "pygambit.gambit.Game"
      ]
     },
     "execution_count": 14,
     "metadata": {},
     "output_type": "execute_result"
    }
   ],
   "source": [
    "restored_game = gbt.read_nfg(\"games/prisoners_dilemma.nfg\")\n",
    "type(restored_game)"
   ]
  }
 ],
 "metadata": {
  "kernelspec": {
   "display_name": "gambitvenv313",
   "language": "python",
   "name": "python3"
  },
  "language_info": {
   "codemirror_mode": {
    "name": "ipython",
    "version": 3
   },
   "file_extension": ".py",
   "mimetype": "text/x-python",
   "name": "python",
   "nbconvert_exporter": "python",
   "pygments_lexer": "ipython3",
   "version": "3.13.5"
  }
 },
 "nbformat": 4,
 "nbformat_minor": 5
}

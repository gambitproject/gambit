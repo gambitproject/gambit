{
 "cells": [
  {
   "cell_type": "markdown",
   "id": "96019084",
   "metadata": {},
   "source": [
    "# Extensive form games\n",
    "\n",
    "In the first tutorial, we used Gambit to set up the Prisoner's Dilemma, an example of a normal (strategic) form game.\n",
    "\n",
    "Gambit can also be used to set up extensive form games; the game is represented as a tree, where each node represents a decision point for a player, and the branches represent the possible actions they can take.\n",
    "\n",
    "## Example: One-shot trust game with binary actions\n",
    "\n",
    "[Kre90](#kre90) introduced a game commonly referred to as the **trust game**.\n",
    "We will build a one-shot version of this game using Gambit's game transformation operations.\n",
    "\n",
    "The game can be defined as follows:\n",
    "- There are two players, a **Buyer** and a **Seller**.\n",
    "- The Buyer moves first and has two actions, **Trust** or **Not trust**.\n",
    "- If the Buyer chooses **Not trust**, then the game ends, and both players receive payoffs of `0`.\n",
    "- If the Buyer chooses **Trust**, then the Seller has a choice with two actions, **Honor** or **Abuse**.\n",
    "- If the Seller chooses **Honor**, both players receive payoffs of `1`;\n",
    "- If the Seller chooses **Abuse**, the Buyer receives a payoff of `-1` and the Seller receives a payoff of `2`.\n",
    "\n",
    "We create a game with an extensive representation using `Game.new_tree`:"
   ]
  },
  {
   "cell_type": "code",
   "execution_count": 1,
   "id": "5946289b",
   "metadata": {},
   "outputs": [],
   "source": [
    "import pygambit as gbt"
   ]
  },
  {
   "cell_type": "code",
   "execution_count": 2,
   "id": "91ed4dfb",
   "metadata": {},
   "outputs": [],
   "source": [
    "g = gbt.Game.new_tree(\n",
    "    players=[\"Buyer\", \"Seller\"],\n",
    "    title=\"One-shot trust game, after Kreps (1990)\"\n",
    ")"
   ]
  },
  {
   "cell_type": "markdown",
   "id": "e1903069",
   "metadata": {},
   "source": [
    "The tree of the game contains just a root node, with no children:"
   ]
  },
  {
   "cell_type": "code",
   "execution_count": 3,
   "id": "3cd94917",
   "metadata": {},
   "outputs": [
    {
     "data": {
      "text/plain": [
       "0"
      ]
     },
     "execution_count": 3,
     "metadata": {},
     "output_type": "execute_result"
    }
   ],
   "source": [
    "len(g.root.children)"
   ]
  },
  {
   "cell_type": "markdown",
   "id": "962b4e52",
   "metadata": {},
   "source": [
    "To extend a game from an existing terminal node, use `Game.append_move`. To begin with, the sole root node is the terminal node.\n",
    "\n",
    "Here we extend the game from the root node by adding the first move for the \"Buyer\" player, creating two child nodes (one for each possible action)."
   ]
  },
  {
   "cell_type": "code",
   "execution_count": 4,
   "id": "5d27a07a",
   "metadata": {},
   "outputs": [
    {
     "data": {
      "text/plain": [
       "2"
      ]
     },
     "execution_count": 4,
     "metadata": {},
     "output_type": "execute_result"
    }
   ],
   "source": [
    "g.append_move(\n",
    "    g.root,  # This is the node to append the move to\n",
    "    player=\"Buyer\",\n",
    "    actions=[\"Trust\", \"Not trust\"]\n",
    ")\n",
    "len(g.root.children)"
   ]
  },
  {
   "cell_type": "markdown",
   "id": "43e28b1e",
   "metadata": {},
   "source": [
    "We can also optionally specify labels for nodes when defining a game.\n",
    "This isn't strictly necessary, but doing so makes the game easier to understand and work with."
   ]
  },
  {
   "cell_type": "code",
   "execution_count": 5,
   "id": "65b21e37",
   "metadata": {},
   "outputs": [],
   "source": [
    "g.root.children[0].label = \"Trust\"\n",
    "g.root.children[1].label = \"Not trust\""
   ]
  },
  {
   "cell_type": "markdown",
   "id": "bba61594",
   "metadata": {},
   "source": [
    "We can then also add the Seller's move in the situation after the Buyer chooses Trust:"
   ]
  },
  {
   "cell_type": "code",
   "execution_count": 6,
   "id": "47c4a31b",
   "metadata": {},
   "outputs": [],
   "source": [
    "g.append_move(\n",
    "    g.root.children[\"Trust\"],\n",
    "    player=\"Seller\",\n",
    "    actions=[\"Honor\", \"Abuse\"]\n",
    ")\n",
    "g.root.children[\"Trust\"].children[0].label = \"Honor\"\n",
    "g.root.children[\"Trust\"].children[1].label = \"Abuse\""
   ]
  },
  {
   "cell_type": "markdown",
   "id": "382ba37d",
   "metadata": {},
   "source": [
    "Now that we have the moves of the game defined, we add payoffs.\n",
    "\n",
    "Payoffs are associated with an `Outcome`; each `Outcome` has a vector of payoffs, one for each player, and optionally an identifying text label.\n",
    "\n",
    "First we add the outcome associated with the Seller proving themselves trustworthy:"
   ]
  },
  {
   "cell_type": "code",
   "execution_count": 7,
   "id": "716e9b9a",
   "metadata": {},
   "outputs": [],
   "source": [
    "g.set_outcome(\n",
    "    g.root.children[\"Trust\"].children[\"Honor\"],\n",
    "    outcome=g.add_outcome(\n",
    "        payoffs=[1, 1],\n",
    "        label=\"Trustworthy\"\n",
    "    )\n",
    ")"
   ]
  },
  {
   "cell_type": "markdown",
   "id": "df082b10",
   "metadata": {},
   "source": [
    "Next, the outcome associated with the scenario where the Buyer trusts but the Seller does not return the trust:"
   ]
  },
  {
   "cell_type": "code",
   "execution_count": 8,
   "id": "695b1aad",
   "metadata": {},
   "outputs": [],
   "source": [
    "g.set_outcome(\n",
    "    g.root.children[\"Trust\"].children[\"Abuse\"],\n",
    "    outcome=g.add_outcome(\n",
    "        payoffs=[-1, 2],\n",
    "        label=\"Untrustworthy\"\n",
    "    )\n",
    ")"
   ]
  },
  {
   "cell_type": "markdown",
   "id": "48335eb8",
   "metadata": {},
   "source": [
    "And, finally the outcome associated with the Buyer opting out of the interaction:"
   ]
  },
  {
   "cell_type": "code",
   "execution_count": 9,
   "id": "0704ef86",
   "metadata": {},
   "outputs": [],
   "source": [
    "g.set_outcome(\n",
    "    g.root.children[\"Not trust\"],\n",
    "    g.add_outcome(\n",
    "        payoffs=[0, 0],\n",
    "        label=\"Opt-out\"\n",
    "    )\n",
    ")"
   ]
  },
  {
   "cell_type": "markdown",
   "id": "09ef5e2e",
   "metadata": {},
   "source": [
    "Nodes without an outcome attached are assumed to have payoffs of zero for all players.\n",
    "\n",
    "Therefore, adding the outcome to this latter terminal node is not strictly necessary in Gambit, but it is useful to be explicit for readability."
   ]
  },
  {
   "cell_type": "code",
   "execution_count": 10,
   "id": "219a569d",
   "metadata": {},
   "outputs": [
    {
     "data": {
      "text/html": [
       "Game(title='One-shot trust game, after Kreps (1990)')"
      ],
      "text/plain": [
       "Game(title='One-shot trust game, after Kreps (1990)')"
      ]
     },
     "execution_count": 10,
     "metadata": {},
     "output_type": "execute_result"
    }
   ],
   "source": [
    "# TODO: Show tree (this functionality is not yet implemented)\n",
    "g"
   ]
  },
  {
   "cell_type": "markdown",
   "id": "d912eee3",
   "metadata": {},
   "source": [
    "Now let's compute the Nash equilibria of the trust game."
   ]
  },
  {
   "cell_type": "code",
   "execution_count": 11,
   "id": "f18b501b",
   "metadata": {},
   "outputs": [
    {
     "data": {
      "text/latex": [
       "$\\left[\\left[0,1\\right],\\left[0,1\\right]\\right]$"
      ],
      "text/plain": [
       "[[Rational(0, 1), Rational(1, 1)], [Rational(0, 1), Rational(1, 1)]]"
      ]
     },
     "execution_count": 11,
     "metadata": {},
     "output_type": "execute_result"
    }
   ],
   "source": [
    "equilibrium = gbt.nash.enumpure_solve(g).equilibria[0]\n",
    "equilibrium"
   ]
  },
  {
   "cell_type": "markdown",
   "id": "8d5c3941",
   "metadata": {},
   "source": [
    "This tells us that if the Buyer plays they will choose the \"Not trust\" strategy with probability 1 and the Seller will choose the \"Abuse\" strategy with probability 1."
   ]
  },
  {
   "cell_type": "code",
   "execution_count": 12,
   "id": "6b354aea",
   "metadata": {},
   "outputs": [
    {
     "name": "stdout",
     "output_type": "stream",
     "text": [
      "Buyer plays the equilibrium strategy:\n",
      "[Rational(0, 1), Rational(1, 1)]\n",
      "Payoff: 0\n",
      "\n",
      "Seller plays the equilibrium strategy:\n",
      "[Rational(0, 1), Rational(1, 1)]\n",
      "Payoff: 0\n"
     ]
    }
   ],
   "source": [
    "# TODO: I'm not sure the above text is the correct way to interpret this equilibrium,\n",
    "# what does the second element of the equilibrium['Buyer'] list (and equilibrium['Seller']) list mean?\n",
    "\n",
    "print(\"Buyer plays the equilibrium strategy:\")\n",
    "# print(equilibrium['Buyer']['Trust'])  # KeyError: \"no strategy with label 'Trust' for player\"\n",
    "print(equilibrium['Buyer'])\n",
    "print(f\"Payoff: {equilibrium.payoff('Buyer')}\")\n",
    "print()\n",
    "print(\"Seller plays the equilibrium strategy:\")\n",
    "print(equilibrium['Seller'])\n",
    "print(f\"Payoff: {equilibrium.payoff('Seller')}\")"
   ]
  },
  {
   "cell_type": "markdown",
   "id": "cfc52edc",
   "metadata": {},
   "source": [
    "Saving games to file\n",
    "--------------------\n",
    "\n",
    "You can use Gambit to save games to, and read from files.\n",
    "The specific format depends on whether the game is normal or extensive form.\n",
    "\n",
    "Here we'll save the Trust game (extensive form) to the `.efg` format."
   ]
  },
  {
   "cell_type": "code",
   "execution_count": 13,
   "id": "37c51152",
   "metadata": {},
   "outputs": [],
   "source": [
    "g.to_efg(\"games/trust_game.efg\")"
   ]
  },
  {
   "cell_type": "markdown",
   "id": "0eb31525",
   "metadata": {},
   "source": [
    "Reading games from file\n",
    "-----------------------\n",
    "\n",
    "You can easily restore the game object from file like so:"
   ]
  },
  {
   "cell_type": "code",
   "execution_count": 14,
   "id": "0d86a750",
   "metadata": {},
   "outputs": [
    {
     "data": {
      "text/plain": [
       "pygambit.gambit.Game"
      ]
     },
     "execution_count": 14,
     "metadata": {},
     "output_type": "execute_result"
    }
   ],
   "source": [
    "restored_game = gbt.read_efg(\"games/trust_game.efg\")\n",
    "type(restored_game)"
   ]
  },
  {
   "cell_type": "markdown",
   "id": "be034836",
   "metadata": {},
   "source": [
    "<a id=\"kre90\"></a> Kreps, D. (1990) “Corporate Culture and Economic Theory.” In J. Alt and K. Shepsle, eds., *Perspectives on Positive Political Economy*, Cambridge University Press."
   ]
  }
 ],
 "metadata": {
  "kernelspec": {
   "display_name": "gambitvenv313",
   "language": "python",
   "name": "python3"
  },
  "language_info": {
   "codemirror_mode": {
    "name": "ipython",
    "version": 3
   },
   "file_extension": ".py",
   "mimetype": "text/x-python",
   "name": "python",
   "nbconvert_exporter": "python",
   "pygments_lexer": "ipython3",
   "version": "3.13.5"
  }
 },
 "nbformat": 4,
 "nbformat_minor": 5
}

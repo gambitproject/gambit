{
 "cells": [
  {
   "cell_type": "markdown",
   "id": "88c376d0",
   "metadata": {},
   "source": [
    "# Getting started with Gambit\n",
    "\n",
    "In this tutorial, we'll demo the basic features of the Gambit library for game theory.\n",
    "\n",
    "This includes creating a `Game` object and using it to set up both normal and extensive form games, starting with the Prisoner's Dilemma, one of the most famous games in game theory.\n",
    "\n",
    "We'll then use Gambit's built-in functions to analyze the game and find its Nash equilibria.\n",
    "\n",
    "<details><summary>The Prisoner's Dilemma</summary>\n",
    "\n",
    "The Prisoner's Dilemma is a classic example in game theory that illustrates why two rational individuals who cannot communicate might not cooperate, even if it appears that it is in their best interest to do so. After being caught, the two prisoners are separately offered a deal:\n",
    "\n",
    "If both stay silent (cooperate), they get light sentences.\n",
    "\n",
    "If one betrays (defects) while the other stays silent, the betrayer goes free and the silent one gets a heavy sentence.\n",
    "\n",
    "If both betray, they both get moderate sentences.\n",
    "\n",
    "</details>"
   ]
  },
  {
   "cell_type": "code",
   "execution_count": 48,
   "id": "894df759",
   "metadata": {},
   "outputs": [],
   "source": [
    "import pygambit as gbt"
   ]
  },
  {
   "cell_type": "markdown",
   "id": "b563d13d",
   "metadata": {},
   "source": [
    "First, let's create the game object.\n",
    "\n",
    "To do this, we need to know the number of players, which in Prisoner's Dilemma is 2, and the number of strategies for each player, which is in both cases is 2 (Cooperate and Defect)."
   ]
  },
  {
   "cell_type": "code",
   "execution_count": 49,
   "id": "2060c1ed",
   "metadata": {},
   "outputs": [
    {
     "data": {
      "text/plain": [
       "pygambit.gambit.Game"
      ]
     },
     "execution_count": 49,
     "metadata": {},
     "output_type": "execute_result"
    }
   ],
   "source": [
    "# Create a list as long as the number of players, specifying the number of strategies for each player.\n",
    "n_strategies = [2, 2]\n",
    "g = gbt.Game.new_table(n_strategies, title=\"Prisoner's Dilemma\")\n",
    "type(g)"
   ]
  },
  {
   "cell_type": "markdown",
   "id": "903376dc",
   "metadata": {},
   "source": [
    "Now let's name the players and each of their possible strategies, in both cases \"Cooperate\" and \"Defect\"."
   ]
  },
  {
   "cell_type": "code",
   "execution_count": 50,
   "id": "9d8203e8",
   "metadata": {},
   "outputs": [],
   "source": [
    "g.players[0].label = \"Tom\"\n",
    "g.players[0].strategies[0].label = \"Cooperate\"\n",
    "g.players[0].strategies[1].label = \"Defect\"\n",
    "\n",
    "g.players[1].label = \"Jerry\"\n",
    "g.players[1].strategies[0].label = \"Cooperate\"\n",
    "g.players[1].strategies[1].label = \"Defect\""
   ]
  },
  {
   "cell_type": "markdown",
   "id": "60bfe828",
   "metadata": {},
   "source": [
    "Now let's assign payoffs for each of the game's possible outcomes, based on the standard payoffs for the Prisoner's Dilemma:\n",
    "- Both players cooperate and receive the lightest sentence: `(-1, -1)`\n",
    "- Tom cooperates, but Jerry defects (betrays Tom): `(0, -3)`\n",
    "- Tom defects, Jerry cooperates: `(-3, 0)`\n",
    "- Both defect: `(-2, -2)`"
   ]
  },
  {
   "cell_type": "code",
   "execution_count": 51,
   "id": "61030607",
   "metadata": {},
   "outputs": [],
   "source": [
    "# Both cooperate\n",
    "g[\"Cooperate\", \"Cooperate\"][\"Tom\"] = -1\n",
    "g[\"Cooperate\", \"Cooperate\"][\"Jerry\"] = -1\n",
    "\n",
    "# Tom cooperates, Jerry defects\n",
    "g[\"Cooperate\", \"Defect\"][\"Tom\"] = -3\n",
    "g[\"Cooperate\", \"Defect\"][\"Jerry\"] = 0\n",
    "\n",
    "# Tom defects, Jerry cooperates\n",
    "g[\"Defect\", \"Cooperate\"][\"Tom\"] = 0\n",
    "g[\"Defect\", \"Cooperate\"][\"Jerry\"] = -3\n",
    "\n",
    "# Both defect\n",
    "g[\"Defect\", \"Defect\"][\"Tom\"] = -2\n",
    "g[\"Defect\", \"Defect\"][\"Jerry\"] = -2"
   ]
  },
  {
   "cell_type": "code",
   "execution_count": 52,
   "id": "caecc334",
   "metadata": {},
   "outputs": [
    {
     "data": {
      "text/html": [
       "<center><h1>Prisoner's Dilemma</h1></center>\n",
       "<table><tr><td></td><td align=center><b>Cooperate</b></td><td align=center><b>Defect</b></td></tr><tr><td align=center><b>Cooperate</b></td><td align=center>-1,-1</td><td align=center>-3,0</td></tr><tr><td align=center><b>Defect</b></td><td align=center>0,-3</td><td align=center>-2,-2</td></tr></table>\n"
      ],
      "text/plain": [
       "Game(title='Prisoner's Dilemma')"
      ]
     },
     "execution_count": 52,
     "metadata": {},
     "output_type": "execute_result"
    }
   ],
   "source": [
    "# View the payout matrix\n",
    "g"
   ]
  },
  {
   "cell_type": "markdown",
   "id": "5e9fe410",
   "metadata": {},
   "source": [
    "The payout matrix structure shows what in Game Theory is described as the \"strategic form\" (also \"normal form\") representation of a game.\n",
    "\n",
    "The matrix presents the players' strategies and their expected payoff following their played strategies.\n",
    "\n",
    "The strategic form assumes players choose their strategies simultaneously, and the outcome depends on the combination.\n",
    "\n",
    "## With fewer lines of code...\n",
    "\n",
    "The most direct way to create a strategic form game is via `Game.from_arrays()`.\n",
    "\n",
    "This function takes one n-dimensional array per player, where n is the number of players in the game.\n",
    "\n",
    "The arrays can be any object that can be indexed like an n-times-nested Python list; so, for example, numpy arrays can be used directly.\n",
    "\n",
    "To create a two-player symmetric game, we can simply transpose the payoff matrix for the second player before passing to `Game.from_arrays()`."
   ]
  },
  {
   "cell_type": "code",
   "execution_count": 90,
   "id": "843ba7f3",
   "metadata": {},
   "outputs": [
    {
     "data": {
      "text/html": [
       "<center><h1>Another Prisoner's Dilemma</h1></center>\n",
       "<table><tr><td></td><td align=center><b>1</b></td><td align=center><b>2</b></td></tr><tr><td align=center><b>1</b></td><td align=center>-1,-1</td><td align=center>-3,0</td></tr><tr><td align=center><b>2</b></td><td align=center>0,-3</td><td align=center>-2,-2</td></tr></table>\n"
      ],
      "text/plain": [
       "Game(title='Another Prisoner's Dilemma')"
      ]
     },
     "execution_count": 90,
     "metadata": {},
     "output_type": "execute_result"
    }
   ],
   "source": [
    "import numpy as np\n",
    "player1_payoffs = np.array([[-1, -3], [0, -2]])\n",
    "player2_payoffs = np.transpose(player1_payoffs)\n",
    "\n",
    "g1 = gbt.Game.from_arrays(\n",
    "    player1_payoffs,\n",
    "    player2_payoffs,\n",
    "    title=\"Another Prisoner's Dilemma\"\n",
    ")\n",
    "\n",
    "g1"
   ]
  },
  {
   "cell_type": "markdown",
   "id": "f2e6645e",
   "metadata": {},
   "source": [
    "Computing the Nash equilibria\n",
    "-----------------------------\n",
    "\n",
    "Let's now use Gambit to compute the Nash equilibria for our Prisoner's Dilemma game, which tells us the strategies that players can adopt to maximize their payoffs, given the assumptions of the Prisoner's Dilemma.\n",
    "\n",
    "For a two-player normal form game, let's use `enumpure_solve` to search for a pure-strategy Nash equilibria."
   ]
  },
  {
   "cell_type": "code",
   "execution_count": 53,
   "id": "a81c06c7",
   "metadata": {},
   "outputs": [],
   "source": [
    "# Returns a NashComputationResult\n",
    "result = gbt.nash.enumpure_solve(g)"
   ]
  },
  {
   "cell_type": "markdown",
   "id": "7d8076f8",
   "metadata": {},
   "source": [
    "Let's inspect our result further to see how many equilibria were found.\n",
    "\n",
    "For a given equilibria, we can then look at the \"mixed strategy profile\", which maps each strategy in a game to the corresponding probability with which that strategy is played.\n",
    "\n",
    "Finally, we can show the expected payoffs for each player when playing the strategies as specified by an equilibrium profile."
   ]
  },
  {
   "cell_type": "code",
   "execution_count": 54,
   "id": "bd395180",
   "metadata": {},
   "outputs": [
    {
     "data": {
      "text/plain": [
       "1"
      ]
     },
     "execution_count": 54,
     "metadata": {},
     "output_type": "execute_result"
    }
   ],
   "source": [
    "# How many equilibria were found?\n",
    "len(result.equilibria)"
   ]
  },
  {
   "cell_type": "code",
   "execution_count": 65,
   "id": "76570ebc",
   "metadata": {},
   "outputs": [
    {
     "data": {
      "text/latex": [
       "$\\left[\\left[0,1\\right],\\left[0,1\\right]\\right]$"
      ],
      "text/plain": [
       "[[Rational(0, 1), Rational(1, 1)], [Rational(0, 1), Rational(1, 1)]]"
      ]
     },
     "execution_count": 65,
     "metadata": {},
     "output_type": "execute_result"
    }
   ],
   "source": [
    "# Inspect the mixed strategy profile of the found equilibrium\n",
    "msp = result.equilibria[0]\n",
    "msp"
   ]
  },
  {
   "cell_type": "markdown",
   "id": "f937e1ab",
   "metadata": {},
   "source": [
    "The equilibrium profile `[[0,1],[0,1]]` indicates that both players' strategy is to play \"Cooperate\" with probability 0 and \"Defect\" with probability 1:"
   ]
  },
  {
   "cell_type": "code",
   "execution_count": 76,
   "id": "980bf6b1",
   "metadata": {},
   "outputs": [
    {
     "name": "stdout",
     "output_type": "stream",
     "text": [
      "Tom plays the equilibrium strategy:\n",
      "Probability of cooperating: 0\n",
      "Probability of defecting: 1\n",
      "Payoff: -2\n",
      "\n",
      "Jerry plays the equilibrium strategy:\n",
      "Probability of cooperating: 0\n",
      "Probability of defecting: 1\n",
      "Payoff: -2\n",
      "\n"
     ]
    }
   ],
   "source": [
    "for player in g.players:\n",
    "    print(f\"{player.label} plays the equilibrium strategy:\")\n",
    "    print(f\"Probability of cooperating: {msp[player.label]['Cooperate']}\")\n",
    "    print(f\"Probability of defecting: {msp[player.label]['Defect']}\")\n",
    "    print(f\"Payoff: {msp.payoff(player.label)}\")\n",
    "    print()"
   ]
  },
  {
   "cell_type": "markdown",
   "id": "24f36b0d",
   "metadata": {},
   "source": [
    "The equilibrium shows that both players are playing their dominant strategy, which is to defect. This is because defecting is the best response to the other player's strategy, regardless of what that strategy is."
   ]
  },
  {
   "cell_type": "markdown",
   "id": "a80a9185",
   "metadata": {},
   "source": [
    "## Extensive form games\n",
    "\n",
    "In the Prisoner's Dilemma example above, we showed how Gambit can be used to set up a normal form game.\n",
    "\n",
    "Gambit can also be used to set up extensive form games; the game is represented as a tree, where each node represents a decision point for a player, and the branches represent the possible actions they can take.\n",
    "\n",
    "### Example: One-shot trust game with binary actions\n",
    "\n",
    "[Kre90](#kre90) introduced a game commonly referred to as the **trust game**.\n",
    "We will build a one-shot version of this game using Gambit's game transformation operations.\n",
    "\n",
    "The game can be defined as follows:\n",
    "- There are two players, a **Buyer** and a **Seller**.\n",
    "- The Buyer moves first and has two actions, **Trust** or **Not trust**.\n",
    "- If the Buyer chooses **Not trust**, then the game ends, and both players receive payoffs of `0`.\n",
    "- If the Buyer chooses **Trust**, then the Seller has a choice with two actions, **Honor** or **Abuse**.\n",
    "- If the Seller chooses **Honor**, both players receive payoffs of `1`;\n",
    "- If the Seller chooses **Abuse**, the Buyer receives a payoff of `-1` and the Seller receives a payoff of `2`.\n",
    "\n",
    "We create a game with an extensive representation using `Game.new_tree`:"
   ]
  },
  {
   "cell_type": "code",
   "execution_count": 91,
   "id": "aaf4ecad",
   "metadata": {},
   "outputs": [],
   "source": [
    "g2 = gbt.Game.new_tree(\n",
    "    players=[\"Buyer\", \"Seller\"],\n",
    "    title=\"One-shot trust game, after Kreps (1990)\"\n",
    ")"
   ]
  },
  {
   "cell_type": "markdown",
   "id": "7d3b25ec",
   "metadata": {},
   "source": [
    "The tree of the game contains just a root node, with no children:"
   ]
  },
  {
   "cell_type": "code",
   "execution_count": 93,
   "id": "3c27247a",
   "metadata": {},
   "outputs": [
    {
     "data": {
      "text/plain": [
       "Node(game=Game(title='One-shot trust game, after Kreps (1990)'), path=[])"
      ]
     },
     "execution_count": 93,
     "metadata": {},
     "output_type": "execute_result"
    }
   ],
   "source": [
    "g2.root"
   ]
  },
  {
   "cell_type": "code",
   "execution_count": 95,
   "id": "beb86395",
   "metadata": {},
   "outputs": [
    {
     "data": {
      "text/plain": [
       "NodeChildren(parent=Node(game=Game(title='One-shot trust game, after Kreps (1990)'), path=[]))"
      ]
     },
     "execution_count": 95,
     "metadata": {},
     "output_type": "execute_result"
    }
   ],
   "source": [
    "g2.root.children"
   ]
  },
  {
   "cell_type": "markdown",
   "id": "3c0b6094",
   "metadata": {},
   "source": [
    "To extend a game from an existing terminal node, use `Game.append_move`:"
   ]
  },
  {
   "cell_type": "code",
   "execution_count": 97,
   "id": "f25fda04",
   "metadata": {},
   "outputs": [
    {
     "data": {
      "text/plain": [
       "NodeChildren(parent=Node(game=Game(title='One-shot trust game, after Kreps (1990)'), path=[]))"
      ]
     },
     "execution_count": 97,
     "metadata": {},
     "output_type": "execute_result"
    }
   ],
   "source": [
    "g2.append_move(g2.root, \"Buyer\", [\"Trust\", \"Not trust\"])\n",
    "g2.root.children"
   ]
  },
  {
   "cell_type": "markdown",
   "id": "2ebb0f55",
   "metadata": {},
   "source": [
    "We can then also add the Seller's move in the situation after the Buyer chooses Trust:"
   ]
  },
  {
   "cell_type": "code",
   "execution_count": 99,
   "id": "fca0e5f6",
   "metadata": {},
   "outputs": [],
   "source": [
    "g2.append_move(g2.root.children[0], \"Seller\", [\"Honor\", \"Abuse\"])"
   ]
  },
  {
   "cell_type": "markdown",
   "id": "f4772b3e",
   "metadata": {},
   "source": [
    "Now that we have the moves of the game defined, we add payoffs.\n",
    "\n",
    "Payoffs are associated with an `Outcome`; each `Outcome` has a vector of payoffs, one for each player, and optionally an identifying text label.\n",
    "\n",
    "First we add the outcome associated with the Seller proving themselves trustworthy:"
   ]
  },
  {
   "cell_type": "code",
   "execution_count": 101,
   "id": "17944393",
   "metadata": {},
   "outputs": [],
   "source": [
    "g2.set_outcome(g2.root.children[0].children[0], g2.add_outcome([1, 1], label=\"Trustworthy\"))"
   ]
  },
  {
   "cell_type": "markdown",
   "id": "93ddc2d9",
   "metadata": {},
   "source": [
    "Next, the outcome associated with the scenario where the Buyer trusts but the Seller does not return the trust:"
   ]
  },
  {
   "cell_type": "code",
   "execution_count": 102,
   "id": "656a686d",
   "metadata": {},
   "outputs": [],
   "source": [
    "g2.set_outcome(g2.root.children[0].children[1], g2.add_outcome([-1, 2], label=\"Untrustworthy\"))"
   ]
  },
  {
   "cell_type": "markdown",
   "id": "091b84f6",
   "metadata": {},
   "source": [
    "And, finally the outcome associated with the Buyer opting out of the interaction:"
   ]
  },
  {
   "cell_type": "code",
   "execution_count": 103,
   "id": "df427b7c",
   "metadata": {},
   "outputs": [],
   "source": [
    "g2.set_outcome(g2.root.children[1], g2.add_outcome([0, 0], label=\"Opt-out\"))"
   ]
  },
  {
   "cell_type": "markdown",
   "id": "f69a0395",
   "metadata": {},
   "source": [
    "Nodes without an outcome attached are assumed to have payoffs of zero for all players.\n",
    "\n",
    "Therefore, adding the outcome to this latter terminal node is not strictly necessary in Gambit, but it is useful to be explicit for readability."
   ]
  },
  {
   "cell_type": "code",
   "execution_count": null,
   "id": "5be82fee",
   "metadata": {},
   "outputs": [
    {
     "data": {
      "text/html": [
       "Game(title='One-shot trust game, after Kreps (1990)')"
      ],
      "text/plain": [
       "Game(title='One-shot trust game, after Kreps (1990)')"
      ]
     },
     "execution_count": 107,
     "metadata": {},
     "output_type": "execute_result"
    }
   ],
   "source": [
    "# Show tree (this functionality is not yet implemented)\n",
    "g2"
   ]
  },
  {
   "cell_type": "markdown",
   "id": "166164d7",
   "metadata": {},
   "source": [
    "<a id=\"kre90\"></a> Kreps, D. (1990) “Corporate Culture and Economic Theory.” In J. Alt and K. Shepsle, eds., *Perspectives on Positive Political Economy*, Cambridge University Press."
   ]
  }
 ],
 "metadata": {
  "kernelspec": {
   "display_name": "gambitvenv313",
   "language": "python",
   "name": "python3"
  },
  "language_info": {
   "codemirror_mode": {
    "name": "ipython",
    "version": 3
   },
   "file_extension": ".py",
   "mimetype": "text/x-python",
   "name": "python",
   "nbconvert_exporter": "python",
   "pygments_lexer": "ipython3",
   "version": "3.13.5"
  }
 },
 "nbformat": 4,
 "nbformat_minor": 5
}

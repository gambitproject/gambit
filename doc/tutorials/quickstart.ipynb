{
 "cells": [
  {
   "cell_type": "markdown",
   "id": "88c376d0",
   "metadata": {},
   "source": [
    "# Getting started with Gambit\n",
    "\n",
    "In this tutorial, we'll demo the basic features of the Gambit library for game theory.\n",
    "This includes creating a `Game` object and using it to set up a simple Prisoner's Dilemma, one of the most famous games in game theory.\n",
    "We'll then use Gambit's built-in functions to analyze the game and find its Nash equilibria."
   ]
  },
  {
   "cell_type": "code",
   "execution_count": 1,
   "id": "894df759",
   "metadata": {},
   "outputs": [],
   "source": [
    "import pygambit as gbt"
   ]
  },
  {
   "cell_type": "code",
   "execution_count": 2,
   "id": "2060c1ed",
   "metadata": {},
   "outputs": [
    {
     "data": {
      "text/html": [
       "<center><h1>Prisoner's Dilemma</h1></center>\n",
       "<table><tr><td></td><td align=center><b>Cooperate</b></td><td align=center><b>Defect</b></td></tr><tr><td align=center><b>Cooperate</b></td><td align=center>-1,-1</td><td align=center>-3,0</td></tr><tr><td align=center><b>Defect</b></td><td align=center>0,-3</td><td align=center>-2,-2</td></tr></table>\n"
      ],
      "text/plain": [
       "Game(title='Prisoner's Dilemma')"
      ]
     },
     "execution_count": 2,
     "metadata": {},
     "output_type": "execute_result"
    }
   ],
   "source": [
    "# Create a normal-form game for Prisoner's Dilemma\n",
    "g = gbt.Game.new_table([2, 2], title=\"Prisoner's Dilemma\")  # 2 players, 2 strategies each\n",
    "\n",
    "# Label players and strategies\n",
    "g.players[0].label = \"Prisoner A\"\n",
    "g.players[1].label = \"Prisoner B\"\n",
    "g.players[0].strategies[0].label = \"Cooperate\"\n",
    "g.players[0].strategies[1].label = \"Defect\"\n",
    "g.players[1].strategies[0].label = \"Cooperate\"\n",
    "g.players[1].strategies[1].label = \"Defect\"\n",
    "\n",
    "# Set payoffs: (A payoff, B payoff)\n",
    "# Both cooperate\n",
    "g[0, 0][g.players[0]] = -1\n",
    "g[0, 0][g.players[1]] = -1\n",
    "# A cooperates, B defects\n",
    "g[0, 1][g.players[0]] = -3\n",
    "g[0, 1][g.players[1]] = 0\n",
    "# A defects, B cooperates\n",
    "g[1, 0][g.players[0]] = 0\n",
    "g[1, 0][g.players[1]] = -3\n",
    "# Both defect\n",
    "g[1, 1][g.players[0]] = -2\n",
    "g[1, 1][g.players[1]] = -2\n",
    "\n",
    "g"
   ]
  }
 ],
 "metadata": {
  "kernelspec": {
   "display_name": "gambitvenv313",
   "language": "python",
   "name": "python3"
  },
  "language_info": {
   "codemirror_mode": {
    "name": "ipython",
    "version": 3
   },
   "file_extension": ".py",
   "mimetype": "text/x-python",
   "name": "python",
   "nbconvert_exporter": "python",
   "pygments_lexer": "ipython3",
   "version": "3.13.5"
  }
 },
 "nbformat": 4,
 "nbformat_minor": 5
}

{
 "cells": [
  {
   "cell_type": "markdown",
   "id": "88c376d0",
   "metadata": {},
   "source": [
    "# Getting started with Gambit\n",
    "\n",
    "In this tutorial, we'll demo the basic features of the Gambit library for game theory.\n",
    "\n",
    "This includes creating a `Game` object and using it to set up a simple Prisoner's Dilemma, one of the most famous games in game theory.\n",
    "\n",
    "We'll then use Gambit's built-in functions to analyze the game and find its Nash equilibria.\n",
    "\n",
    "<details><summary>The Prisoner's Dilemma</summary>\n",
    "\n",
    "The Prisoner's Dilemma is a classic example in game theory that illustrates why two rational individuals who cannot communicate might not cooperate, even if it appears that it is in their best interest to do so. After being caught, the two prisoners are separately offered a deal:\n",
    "\n",
    "If both stay silent (cooperate), they get light sentences.\n",
    "\n",
    "If one betrays (defects) while the other stays silent, the betrayer goes free and the silent one gets a heavy sentence.\n",
    "\n",
    "If both betray, they both get moderate sentences.\n",
    "\n",
    "</details>"
   ]
  },
  {
   "cell_type": "code",
   "execution_count": 1,
   "id": "894df759",
   "metadata": {},
   "outputs": [],
   "source": [
    "import pygambit as gbt"
   ]
  },
  {
   "cell_type": "markdown",
   "id": "b563d13d",
   "metadata": {},
   "source": [
    "First, let's create the game object.\n",
    "\n",
    "To do this, we need to know the number of players, which in Prisoner's Dilemma is 2, and the number of strategies for each player, which is in both cases is 2 (Cooperate and Defect)."
   ]
  },
  {
   "cell_type": "code",
   "execution_count": 3,
   "id": "2060c1ed",
   "metadata": {},
   "outputs": [
    {
     "data": {
      "text/plain": [
       "pygambit.gambit.Game"
      ]
     },
     "execution_count": 3,
     "metadata": {},
     "output_type": "execute_result"
    }
   ],
   "source": [
    "# Create a list as long as the number of players, specifying the number of strategies for each player.\n",
    "n_strategies = [2, 2]\n",
    "g = gbt.Game.new_table(n_strategies, title=\"Prisoner's Dilemma\")\n",
    "type(g)"
   ]
  },
  {
   "cell_type": "markdown",
   "id": "903376dc",
   "metadata": {},
   "source": [
    "Now let's name the players and each of their possible strategies, in both cases \"Cooperate\" and \"Defect\"."
   ]
  },
  {
   "cell_type": "code",
   "execution_count": 5,
   "id": "9d8203e8",
   "metadata": {},
   "outputs": [],
   "source": [
    "g.players[0].label = \"Tom\"\n",
    "g.players[0].strategies[0].label = \"Cooperate\"\n",
    "g.players[0].strategies[1].label = \"Defect\"\n",
    "\n",
    "g.players[1].label = \"Jerry\"\n",
    "g.players[1].strategies[0].label = \"Cooperate\"\n",
    "g.players[1].strategies[1].label = \"Defect\""
   ]
  },
  {
   "cell_type": "markdown",
   "id": "60bfe828",
   "metadata": {},
   "source": [
    "Now let's assign payoffs for each of the game's possible outcomes, based on the standard payoffs for the Prisoner's Dilemma:\n",
    "- Both players cooperate and receive the lightest sentence: `(-1, -1)`\n",
    "- Tom cooperates, but Jerry defects (betrays Tom): `(0, -3)`\n",
    "- Tom defects, Jerry cooperates: `(-3, 0)`\n",
    "- Both defect: `(-2, -2)`"
   ]
  },
  {
   "cell_type": "code",
   "execution_count": 8,
   "id": "61030607",
   "metadata": {},
   "outputs": [],
   "source": [
    "# Both cooperate\n",
    "g[0, 0][g.players[0]] = -1\n",
    "g[0, 0][g.players[1]] = -1\n",
    "\n",
    "# Tom cooperates, Jerry defects\n",
    "g[0, 1][g.players[0]] = -3\n",
    "g[0, 1][g.players[1]] = 0\n",
    "\n",
    "# Tom defects, Jerry cooperates\n",
    "g[1, 0][g.players[0]] = 0\n",
    "g[1, 0][g.players[1]] = -3\n",
    "\n",
    "# Both defect\n",
    "g[1, 1][g.players[0]] = -2\n",
    "g[1, 1][g.players[1]] = -2"
   ]
  },
  {
   "cell_type": "code",
   "execution_count": 10,
   "id": "caecc334",
   "metadata": {},
   "outputs": [
    {
     "data": {
      "text/html": [
       "<center><h1>Prisoner's Dilemma</h1></center>\n",
       "<table><tr><td></td><td align=center><b>Cooperate</b></td><td align=center><b>Defect</b></td></tr><tr><td align=center><b>Cooperate</b></td><td align=center>-1,-1</td><td align=center>-3,0</td></tr><tr><td align=center><b>Defect</b></td><td align=center>0,-3</td><td align=center>-2,-2</td></tr></table>\n"
      ],
      "text/plain": [
       "Game(title='Prisoner's Dilemma')"
      ]
     },
     "execution_count": 10,
     "metadata": {},
     "output_type": "execute_result"
    }
   ],
   "source": [
    "# View the payout matrix\n",
    "g"
   ]
  },
  {
   "cell_type": "markdown",
   "id": "5e9fe410",
   "metadata": {},
   "source": [
    "The payout matrix structure shows what in Game Theory is described as the \"normal form\" representation of a game.\n",
    "\n",
    "The matrix presents the players' strategies and their expected payoff following their played strategies.\n",
    "\n",
    "The normal form assumes players choose their strategies simultaneously, and the outcome depends on the combination."
   ]
  },
  {
   "cell_type": "markdown",
   "id": "f2e6645e",
   "metadata": {},
   "source": [
    "Computing the Nash equilibria\n",
    "-----------------------------\n",
    "\n",
    "Let's now use Gambit to compute the Nash equilibria for our game, which tells us the strategies that players can adopt to maximize their payoffs, given the assumptions of the Prisoner's Dilemma.\n",
    "\n",
    "For a two-player normal form game, let's use `enumpure_solve` to search for a pure-strategy Nash equilibria."
   ]
  },
  {
   "cell_type": "code",
   "execution_count": null,
   "id": "a81c06c7",
   "metadata": {},
   "outputs": [],
   "source": [
    "# Returns a NashComputationResult\n",
    "result = gbt.nash.enumpure_solve(g)"
   ]
  },
  {
   "cell_type": "markdown",
   "id": "7d8076f8",
   "metadata": {},
   "source": [
    "Let's inspect our result further to see how many equilibria were found.\n",
    "\n",
    "For a given equilibria, we can then look at the \"mixed strategy profile\" which maps each strategy in a game to the corresponding probability with which that strategy is played.\n",
    "\n",
    "Finally, we can show the expected payoffs for each player when playing the strategies as specified by the equilibrium profiles."
   ]
  },
  {
   "cell_type": "code",
   "execution_count": null,
   "id": "bd395180",
   "metadata": {},
   "outputs": [
    {
     "data": {
      "text/plain": [
       "1"
      ]
     },
     "execution_count": 37,
     "metadata": {},
     "output_type": "execute_result"
    }
   ],
   "source": [
    "# How many equilibria were found?\n",
    "len(result.equilibria)"
   ]
  },
  {
   "cell_type": "code",
   "execution_count": null,
   "id": "76570ebc",
   "metadata": {},
   "outputs": [
    {
     "data": {
      "text/latex": [
       "$\\left[\\left[0,1\\right],\\left[0,1\\right]\\right]$"
      ],
      "text/plain": [
       "[[Rational(0, 1), Rational(1, 1)], [Rational(0, 1), Rational(1, 1)]]"
      ]
     },
     "execution_count": 41,
     "metadata": {},
     "output_type": "execute_result"
    }
   ],
   "source": [
    "# Inspect the mixed strategy profile\n",
    "profile = result.equilibria[0]\n",
    "profile"
   ]
  },
  {
   "cell_type": "code",
   "execution_count": null,
   "id": "9596c19c",
   "metadata": {},
   "outputs": [
    {
     "data": {
      "text/latex": [
       "$-2$"
      ],
      "text/plain": [
       "Rational(-2, 1)"
      ]
     },
     "execution_count": 32,
     "metadata": {},
     "output_type": "execute_result"
    }
   ],
   "source": [
    "# Prisoner Tom's payoff when playing the equilibrium strategy\n",
    "result.equilibria[0].payoff(\"Tom\")"
   ]
  },
  {
   "cell_type": "code",
   "execution_count": null,
   "id": "6ad002de",
   "metadata": {},
   "outputs": [
    {
     "data": {
      "text/latex": [
       "$-2$"
      ],
      "text/plain": [
       "Rational(-2, 1)"
      ]
     },
     "execution_count": 33,
     "metadata": {},
     "output_type": "execute_result"
    }
   ],
   "source": [
    "# Prisoner Jerry's payoff when playing the equilibrium strategy\n",
    "result.equilibria[0].payoff(\"Jerry\")"
   ]
  }
 ],
 "metadata": {
  "kernelspec": {
   "display_name": "gambitvenv313",
   "language": "python",
   "name": "python3"
  },
  "language_info": {
   "codemirror_mode": {
    "name": "ipython",
    "version": 3
   },
   "file_extension": ".py",
   "mimetype": "text/x-python",
   "name": "python",
   "nbconvert_exporter": "python",
   "pygments_lexer": "ipython3",
   "version": "3.13.5"
  }
 },
 "nbformat": 4,
 "nbformat_minor": 5
}
